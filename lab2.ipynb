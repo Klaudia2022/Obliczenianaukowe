{
  "nbformat": 4,
  "nbformat_minor": 0,
  "metadata": {
    "colab": {
      "name": "Untitled2.ipynb",
      "provenance": [],
      "authorship_tag": "ABX9TyNoilZZX71BiuGyqPn919n3",
      "include_colab_link": true
    },
    "kernelspec": {
      "name": "python3",
      "display_name": "Python 3"
    },
    "language_info": {
      "name": "python"
    }
  },
  "cells": [
    {
      "cell_type": "markdown",
      "metadata": {
        "id": "view-in-github",
        "colab_type": "text"
      },
      "source": [
        "<a href=\"https://colab.research.google.com/github/Klaudia2022/Obliczenianaukowe/blob/main/lab2.ipynb\" target=\"_parent\"><img src=\"https://colab.research.google.com/assets/colab-badge.svg\" alt=\"Open In Colab\"/></a>"
      ]
    },
    {
      "cell_type": "code",
      "execution_count": null,
      "metadata": {
        "id": "J-0zb4Q0ZMcO"
      },
      "outputs": [],
      "source": [
        "a=int(input('Podaj cyfrę: '))\n",
        "if a <5:\n",
        "  print ('Hej')\n",
        "else:\n",
        "  print('Cześć')"
      ]
    },
    {
      "cell_type": "code",
      "source": [
        "for i in range(0,101,2):\n",
        "  print(i)"
      ],
      "metadata": {
        "id": "rCgyGqW8Z1Ql"
      },
      "execution_count": null,
      "outputs": []
    },
    {
      "cell_type": "code",
      "source": [
        "a=0\n",
        "while a<10:\n",
        "  a=int(input('Wprowadź liczbę: '))\n",
        "  if a==2:\n",
        "    break\n",
        "print('Koniec')"
      ],
      "metadata": {
        "id": "HmmHXwzXbNaE"
      },
      "execution_count": null,
      "outputs": []
    },
    {
      "cell_type": "code",
      "source": [
        "i=1\n",
        "while i<5:\n",
        "  print(i)\n",
        "  i+=1\n",
        "  if i==2:\n",
        "    continue\n",
        "  print (i,'+1=',i+1)"
      ],
      "metadata": {
        "id": "gzoiy3FbcUQS"
      },
      "execution_count": null,
      "outputs": []
    },
    {
      "cell_type": "code",
      "source": [
        "def dodawanie(x):\n",
        "  return x+5\n",
        "\n",
        "dodawanie (1)"
      ],
      "metadata": {
        "id": "8mjc7-Mbc4tC"
      },
      "execution_count": null,
      "outputs": []
    },
    {
      "cell_type": "code",
      "source": [
        "def potegowanie(x,a=2):\n",
        "  return x**a\n",
        "\n",
        "potegowanie(5)\n",
        "potegowanie(5,3)"
      ],
      "metadata": {
        "id": "v2FB1gn2dP4J"
      },
      "execution_count": null,
      "outputs": []
    },
    {
      "cell_type": "code",
      "source": [
        "lista1=[1,2,'Ala',True, [2,3,4]]\n",
        "#lista1[1:3]\n",
        "#type(lista1[3]) - zwraca typ danych, które są w nawiasie\n",
        "#lista1[0:4:2]\n",
        "#lista1[0]=5\n",
        "#lista1\n",
        "#l=list(range(51))\n",
        "#print(l)\n",
        "#lista1.sort() - zwraca błąd\n",
        "#lista1.sort(key=....) \n",
        "lista2=[1,2,3,4,5,3,15]\n",
        "lista2.sort(reverse=True) #sortowanie malejące (domyślnie jest sortowanie niemalejące), reverse domyślnie False\n",
        "print(lista2)"
      ],
      "metadata": {
        "id": "ubBakanUdu3G"
      },
      "execution_count": null,
      "outputs": []
    },
    {
      "cell_type": "code",
      "source": [
        "(1,2,3) #krotka"
      ],
      "metadata": {
        "id": "qs2K1gmxgzZu"
      },
      "execution_count": null,
      "outputs": []
    },
    {
      "cell_type": "code",
      "source": [
        "#Zadanie 1\n",
        "#Wygeneruj listę awierającą liczby niedodatnie z przedziału [-15,10], podzielne przez 3 i ustawione malejąco\n",
        "wynik=[]\n",
        "l=list(range(-15,11))\n",
        "for i in l:\n",
        "  if i%3==0 and i<=0:\n",
        "    wynik.append(i)\n",
        "wynik.sort(reverse=True)\n",
        "print(wynik)"
      ],
      "metadata": {
        "id": "MSNOMXiciprM"
      },
      "execution_count": null,
      "outputs": []
    },
    {
      "cell_type": "code",
      "source": [
        "#Zadanie 2\n",
        "l=[1,3,5,7,8,10]\n",
        "\n",
        "#a) lista kwadrtawów elementow z l\n",
        "a=[]\n",
        "for i in l:\n",
        "  a.append(i**2)\n",
        "print(a)\n",
        "\n",
        "#b) lista wartości funkcji x/(x-2) dla ele,emtow z l\n",
        "b=[]\n",
        "for i in l:\n",
        "  b.append(i/(i-2))\n",
        "print(b)\n",
        "\n",
        "#c) lista, która zawiera elementy z l podzielne przez 3\n",
        "c=[]\n",
        "for i in l:\n",
        "  if i%3==0:\n",
        "    c.append(i)\n",
        "print(c)\n",
        "\n",
        "#najszybciej\n",
        "d=[i**2 for i in l]\n",
        "e=[i/(i-2) for i in l]\n",
        "print(d)\n",
        "print(e)\n",
        "\n",
        "#funkcja map\n",
        "f=map(lambda i: i**2,l)\n",
        "f=list(f)\n",
        "print(f)\n",
        "\n",
        "#funkcja filter\n",
        "g=filter(lambda i: i%3==0, l)\n",
        "print(list(g))"
      ],
      "metadata": {
        "id": "aw84Z1ylkkAS"
      },
      "execution_count": null,
      "outputs": []
    },
    {
      "cell_type": "code",
      "source": [
        "S={1,2,'pies'}\n",
        "#S[0] - nie ma czegoś takiego, ponieważ w zbiorze nie ma kolejności\n",
        "len(S)\n",
        "if 'pies' in S:\n",
        "  S.remove('pies')\n",
        "  S.add('kot')\n",
        "  print(S)\n",
        "\n",
        "#S.update() - dodaje elementy z zbioru w nawiasie\n",
        "S2={3,4,5}\n",
        "a=S.update(S2)\n"
      ],
      "metadata": {
        "colab": {
          "base_uri": "https://localhost:8080/"
        },
        "id": "Uap4THnVoo-2",
        "outputId": "d60cfa27-b26e-4cbc-e4b4-f7e7ac13ef5e"
      },
      "execution_count": null,
      "outputs": [
        {
          "output_type": "stream",
          "name": "stdout",
          "text": [
            "{1, 2, 'kot'}\n",
            "{1, 2, 3, 4, 'kot', 5}\n",
            "None\n"
          ]
        }
      ]
    }
  ]
}