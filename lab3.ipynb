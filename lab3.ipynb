{
  "nbformat": 4,
  "nbformat_minor": 0,
  "metadata": {
    "colab": {
      "name": "Untitled4.ipynb",
      "provenance": [],
      "include_colab_link": true
    },
    "kernelspec": {
      "name": "python3",
      "display_name": "Python 3"
    },
    "language_info": {
      "name": "python"
    }
  },
  "cells": [
    {
      "cell_type": "markdown",
      "metadata": {
        "id": "view-in-github",
        "colab_type": "text"
      },
      "source": [
        "<a href=\"https://colab.research.google.com/github/Klaudia2022/Obliczenianaukowe/blob/main/lab3_zadanie1.ipynb\" target=\"_parent\"><img src=\"https://colab.research.google.com/assets/colab-badge.svg\" alt=\"Open In Colab\"/></a>"
      ]
    },
    {
      "cell_type": "markdown",
      "source": [
        "#### Zadanie 1\n",
        "Dany jest słownik student={'imie':'Jan', 'nazwisko':'kowalski','wiek':25, 'wzrost':188, 'waga':80, 'miasto':'Toruń'}\n",
        "\n",
        "* Wypisz jego elementy w postaci \"klucz -> wartość \"\n",
        "* Zmień 'wzrost' na 182 \n",
        "* Dodaj klucz 'wynik matury' z dowolną wartością\n",
        "* Usuń klucz (i wartość) 'miasto'"
      ],
      "metadata": {
        "id": "VRVE0JVybqgv"
      }
    },
    {
      "cell_type": "code",
      "source": [
        "student={'imie':'Jan', 'nazwisko':'kowalski','wiek':25, 'wzrost':188, 'waga':80, 'miasto':'Toruń'}\n",
        "#1\n",
        "for el in student.keys():\n",
        "  print(el, \"->\", student[el])\n",
        "\n",
        "#2\n",
        "student['wzrost']=182\n",
        "\n",
        "#3\n",
        "student['wynik matury']='100%'\n",
        "\n",
        "#4\n",
        "del student['miasto']\n",
        "print(student)"
      ],
      "metadata": {
        "id": "L2nHz72XbnSi",
        "outputId": "414efc9e-9a22-40fb-a0f2-025656e51d43",
        "colab": {
          "base_uri": "https://localhost:8080/"
        }
      },
      "execution_count": 7,
      "outputs": [
        {
          "output_type": "stream",
          "name": "stdout",
          "text": [
            "imie -> Jan\n",
            "nazwisko -> kowalski\n",
            "wiek -> 25\n",
            "wzrost -> 188\n",
            "waga -> 80\n",
            "miasto -> Toruń\n",
            "{'imie': 'Jan', 'nazwisko': 'kowalski', 'wiek': 25, 'wzrost': 182, 'waga': 80, 'wynik matury': '100%'}\n"
          ]
        }
      ]
    }
  ]
}
