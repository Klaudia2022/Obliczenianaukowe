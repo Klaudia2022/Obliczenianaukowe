{
  "nbformat": 4,
  "nbformat_minor": 0,
  "metadata": {
    "colab": {
      "name": "Untitled4.ipynb",
      "provenance": [],
      "include_colab_link": true
    },
    "kernelspec": {
      "name": "python3",
      "display_name": "Python 3"
    },
    "language_info": {
      "name": "python"
    }
  },
  "cells": [
    {
      "cell_type": "markdown",
      "metadata": {
        "id": "view-in-github",
        "colab_type": "text"
      },
      "source": [
        "<a href=\"https://colab.research.google.com/github/Klaudia2022/Obliczenianaukowe/blob/main/lab3.ipynb\" target=\"_parent\"><img src=\"https://colab.research.google.com/assets/colab-badge.svg\" alt=\"Open In Colab\"/></a>"
      ]
    },
    {
      "cell_type": "markdown",
      "source": [
        "#### Zadanie 1\n",
        "Dany jest słownik student={'imie':'Jan', 'nazwisko':'kowalski','wiek':25, 'wzrost':188, 'waga':80, 'miasto':'Toruń'}\n",
        "\n",
        "* Wypisz jego elementy w postaci \"klucz -> wartość \"\n",
        "* Zmień 'wzrost' na 182 \n",
        "* Dodaj klucz 'wynik matury' z dowolną wartością\n",
        "* Usuń klucz (i wartość) 'miasto'"
      ],
      "metadata": {
        "id": "VRVE0JVybqgv"
      }
    },
    {
      "cell_type": "code",
      "source": [
        "student={'imie':'Jan', 'nazwisko':'kowalski','wiek':25, 'wzrost':188, 'waga':80, 'miasto':'Toruń'}"
      ],
      "metadata": {
        "id": "L2nHz72XbnSi"
      },
      "execution_count": null,
      "outputs": []
    },
    {
      "cell_type": "code",
      "source": [
        "for klucz in student.keys():\n",
        "  print(klucz+'->'+str(student[klucz]))"
      ],
      "metadata": {
        "colab": {
          "base_uri": "https://localhost:8080/"
        },
        "id": "jw_WIC4OdGTm",
        "outputId": "8dbd2cb5-18e6-4bad-eaf7-090e5b681176"
      },
      "execution_count": null,
      "outputs": [
        {
          "output_type": "stream",
          "name": "stdout",
          "text": [
            "imie->Jan\n",
            "nazwisko->kowalski\n",
            "wiek->25\n",
            "wzrost->188\n",
            "waga->80\n",
            "miasto->Toruń\n"
          ]
        }
      ]
    },
    {
      "cell_type": "code",
      "source": [
        "student['wzrost']=182"
      ],
      "metadata": {
        "id": "gJuZSyozd-Ln"
      },
      "execution_count": null,
      "outputs": []
    },
    {
      "cell_type": "code",
      "source": [
        "student"
      ],
      "metadata": {
        "colab": {
          "base_uri": "https://localhost:8080/"
        },
        "id": "KcF-f-gmeO52",
        "outputId": "9ba5bcd5-ff51-4c41-e2c4-1ec0f932e9fc"
      },
      "execution_count": null,
      "outputs": [
        {
          "output_type": "execute_result",
          "data": {
            "text/plain": [
              "{'imie': 'Jan',\n",
              " 'miasto': 'Toruń',\n",
              " 'nazwisko': 'kowalski',\n",
              " 'waga': 80,\n",
              " 'wiek': 25,\n",
              " 'wzrost': 182}"
            ]
          },
          "metadata": {},
          "execution_count": 8
        }
      ]
    },
    {
      "cell_type": "code",
      "source": [
        "student['wynik matury']=20"
      ],
      "metadata": {
        "id": "JLbGiXRGeTNS"
      },
      "execution_count": null,
      "outputs": []
    },
    {
      "cell_type": "code",
      "source": [
        "del student['miasto']"
      ],
      "metadata": {
        "id": "v_ltxeDkecAQ"
      },
      "execution_count": null,
      "outputs": []
    },
    {
      "cell_type": "code",
      "source": [
        "student"
      ],
      "metadata": {
        "colab": {
          "base_uri": "https://localhost:8080/"
        },
        "id": "la-EDbxberm-",
        "outputId": "296bde50-2f88-401e-912d-cc30cb3306bb"
      },
      "execution_count": null,
      "outputs": [
        {
          "output_type": "execute_result",
          "data": {
            "text/plain": [
              "{'imie': 'Jan',\n",
              " 'nazwisko': 'kowalski',\n",
              " 'waga': 80,\n",
              " 'wiek': 25,\n",
              " 'wynik matury': 20,\n",
              " 'wzrost': 182}"
            ]
          },
          "metadata": {},
          "execution_count": 11
        }
      ]
    },
    {
      "cell_type": "code",
      "source": [
        ""
      ],
      "metadata": {
        "id": "7eGQB6rOetHg"
      },
      "execution_count": null,
      "outputs": []
    },
    {
      "cell_type": "code",
      "source": [
        ""
      ],
      "metadata": {
        "id": "-hMsykpme2uE"
      },
      "execution_count": null,
      "outputs": []
    },
    {
      "cell_type": "markdown",
      "source": [
        "####Zadanie 2\n",
        "Dane są dwie listy równej długości\n",
        "\n",
        "klucze=['klucz1','klucz2','inny klucz', 'test']\n",
        "wartosci=[1,2,5,1]\n",
        "Utwórz w sposób zautomatyzowany (nie ręcznie) słownik, który kolejnym kluczom przypisze kolejne wartości."
      ],
      "metadata": {
        "id": "Mbs9JRESe3aH"
      }
    },
    {
      "cell_type": "code",
      "source": [
        "klucze=['klucz1','klucz2','inny klucz', 'test'] \n",
        "wartosci=[1,2,5,1]\n",
        "slownik={}\n",
        "for i in range(len(klucze)):\n",
        "  slownik[klucze[i]]=wartosci[i]\n",
        "\n",
        "print(slownik)\n",
        "\n",
        "#inny sposób\n",
        "nowy=zip(klucze,wartosci)\n",
        "dict(nowy)\n"
      ],
      "metadata": {
        "id": "Irf6Ra8He3vW",
        "colab": {
          "base_uri": "https://localhost:8080/"
        },
        "outputId": "17863c84-c2d3-497e-b07a-c83f31b7a360"
      },
      "execution_count": 21,
      "outputs": [
        {
          "output_type": "stream",
          "name": "stdout",
          "text": [
            "{'klucz1': 1, 'klucz2': 2, 'inny klucz': 5, 'test': 1}\n"
          ]
        },
        {
          "output_type": "execute_result",
          "data": {
            "text/plain": [
              "{'inny klucz': 5, 'klucz1': 1, 'klucz2': 2, 'test': 1}"
            ]
          },
          "metadata": {},
          "execution_count": 21
        }
      ]
    },
    {
      "cell_type": "code",
      "source": [
        "def funkcja(n,i=1):\n",
        "  if n==0:\n",
        "    return 1\n",
        "  else:\n",
        "    return 2*funkcja(n-1,i+1)\n",
        "\n",
        "funkcja(2,1)\n"
      ],
      "metadata": {
        "colab": {
          "base_uri": "https://localhost:8080/"
        },
        "id": "My08uCxXgmgc",
        "outputId": "cac378d0-e862-4c64-a8f8-078c4f87727f"
      },
      "execution_count": 28,
      "outputs": [
        {
          "output_type": "execute_result",
          "data": {
            "text/plain": [
              "4"
            ]
          },
          "metadata": {},
          "execution_count": 28
        }
      ]
    },
    {
      "cell_type": "code",
      "source": [
        "#from sympy import *\n",
        "#import sympy\n",
        "#from sympy import nazwapotrzebnej funkcji\n",
        "\n",
        "from sympy import *\n",
        "sin(30)"
      ],
      "metadata": {
        "id": "6U_6vXO8igbZ",
        "outputId": "a2c66732-b281-4dfd-d2dc-a5cfd289ba01",
        "colab": {
          "base_uri": "https://localhost:8080/",
          "height": 37
        }
      },
      "execution_count": 30,
      "outputs": [
        {
          "output_type": "execute_result",
          "data": {
            "text/latex": "$\\displaystyle \\sin{\\left(30 \\right)}$",
            "text/plain": [
              "sin(30)"
            ]
          },
          "metadata": {},
          "execution_count": 30
        }
      ]
    },
    {
      "cell_type": "code",
      "source": [
        "x=symbols('x')\n",
        "x"
      ],
      "metadata": {
        "id": "g_q046hMjS9A",
        "outputId": "431526cf-4143-4bdc-d73f-5abce6981eab",
        "colab": {
          "base_uri": "https://localhost:8080/",
          "height": 38
        }
      },
      "execution_count": 35,
      "outputs": [
        {
          "output_type": "execute_result",
          "data": {
            "text/latex": "$\\displaystyle x$",
            "text/plain": [
              "x"
            ]
          },
          "metadata": {},
          "execution_count": 35
        }
      ]
    },
    {
      "cell_type": "code",
      "source": [
        "x,y=symbols('x,y')"
      ],
      "metadata": {
        "id": "YISuXx1pjnT3"
      },
      "execution_count": 36,
      "outputs": []
    },
    {
      "cell_type": "code",
      "source": [
        "x"
      ],
      "metadata": {
        "id": "MmcqIcz1js6H",
        "outputId": "1f6a54ba-767e-4182-f7c9-46b7827ca4a9",
        "colab": {
          "base_uri": "https://localhost:8080/",
          "height": 38
        }
      },
      "execution_count": 37,
      "outputs": [
        {
          "output_type": "execute_result",
          "data": {
            "text/latex": "$\\displaystyle x$",
            "text/plain": [
              "x"
            ]
          },
          "metadata": {},
          "execution_count": 37
        }
      ]
    },
    {
      "cell_type": "code",
      "source": [
        "y"
      ],
      "metadata": {
        "id": "qeeGqPnejuJH",
        "outputId": "7c6532df-0368-4345-dfc0-542ce382b4bb",
        "colab": {
          "base_uri": "https://localhost:8080/",
          "height": 38
        }
      },
      "execution_count": 38,
      "outputs": [
        {
          "output_type": "execute_result",
          "data": {
            "text/latex": "$\\displaystyle y$",
            "text/plain": [
              "y"
            ]
          },
          "metadata": {},
          "execution_count": 38
        }
      ]
    },
    {
      "cell_type": "code",
      "source": [
        "cos(x)**2+sin(x)**2"
      ],
      "metadata": {
        "id": "rrD8X_12jvO_",
        "outputId": "3e5fdc45-43ee-4509-90e0-dafcd4494b7e",
        "colab": {
          "base_uri": "https://localhost:8080/",
          "height": 38
        }
      },
      "execution_count": 39,
      "outputs": [
        {
          "output_type": "execute_result",
          "data": {
            "text/latex": "$\\displaystyle \\sin^{2}{\\left(x \\right)} + \\cos^{2}{\\left(x \\right)}$",
            "text/plain": [
              "sin(x)**2 + cos(x)**2"
            ]
          },
          "metadata": {},
          "execution_count": 39
        }
      ]
    },
    {
      "cell_type": "code",
      "source": [
        "simplify(_)"
      ],
      "metadata": {
        "id": "WDlpsllUj06R",
        "outputId": "c1747dca-c626-459f-b9d9-31a1cb6ce170",
        "colab": {
          "base_uri": "https://localhost:8080/",
          "height": 37
        }
      },
      "execution_count": 40,
      "outputs": [
        {
          "output_type": "execute_result",
          "data": {
            "text/latex": "$\\displaystyle 1$",
            "text/plain": [
              "1"
            ]
          },
          "metadata": {},
          "execution_count": 40
        }
      ]
    },
    {
      "cell_type": "markdown",
      "source": [
        "_ podkreślnik, to jest ostatni wyświetlony wynik"
      ],
      "metadata": {
        "id": "gEsgRX_Fj6dO"
      }
    },
    {
      "cell_type": "code",
      "source": [
        "solve(2*x-5)"
      ],
      "metadata": {
        "id": "kjwzdG6jkDju",
        "outputId": "92c62b5c-ab47-4171-f90a-2a0659a3c8b6",
        "colab": {
          "base_uri": "https://localhost:8080/"
        }
      },
      "execution_count": 50,
      "outputs": [
        {
          "output_type": "execute_result",
          "data": {
            "text/plain": [
              "[5/2]"
            ]
          },
          "metadata": {},
          "execution_count": 50
        }
      ]
    },
    {
      "cell_type": "code",
      "source": [
        "wyr=x**2+5*x+3"
      ],
      "metadata": {
        "id": "6nF2G57ulIGN"
      },
      "execution_count": 51,
      "outputs": []
    },
    {
      "cell_type": "code",
      "source": [
        "wyr.subs(x,1) #podstawianie wartości w miejsce x"
      ],
      "metadata": {
        "id": "qK_sh6RIlNnl",
        "outputId": "7c8b7180-431d-4b78-b64d-dc90cdd79eba",
        "colab": {
          "base_uri": "https://localhost:8080/",
          "height": 37
        }
      },
      "execution_count": 53,
      "outputs": [
        {
          "output_type": "execute_result",
          "data": {
            "text/latex": "$\\displaystyle 9$",
            "text/plain": [
              "9"
            ]
          },
          "metadata": {},
          "execution_count": 53
        }
      ]
    },
    {
      "cell_type": "code",
      "source": [
        "sin(30).evalf()"
      ],
      "metadata": {
        "id": "stbmRL8LlcNE",
        "outputId": "949cf169-a09f-4f48-d036-1e9e18773d68",
        "colab": {
          "base_uri": "https://localhost:8080/",
          "height": 37
        }
      },
      "execution_count": 57,
      "outputs": [
        {
          "output_type": "execute_result",
          "data": {
            "text/latex": "$\\displaystyle -0.988031624092862$",
            "text/plain": [
              "-0.988031624092862"
            ]
          },
          "metadata": {},
          "execution_count": 57
        }
      ]
    },
    {
      "cell_type": "code",
      "source": [
        "wyr.diff(x) #lub działa diff(wyr)\n"
      ],
      "metadata": {
        "id": "xyv48dOTle-E",
        "outputId": "c257f055-26b0-49b7-ce8d-550b9644769f",
        "colab": {
          "base_uri": "https://localhost:8080/",
          "height": 38
        }
      },
      "execution_count": 59,
      "outputs": [
        {
          "output_type": "execute_result",
          "data": {
            "text/latex": "$\\displaystyle 2 x + 5$",
            "text/plain": [
              "2*x + 5"
            ]
          },
          "metadata": {},
          "execution_count": 59
        }
      ]
    },
    {
      "cell_type": "code",
      "source": [
        "f=symbols('f',cls=Function)\n",
        "g=Function('g')\n"
      ],
      "metadata": {
        "id": "NrRtHtYOl_a8"
      },
      "execution_count": 61,
      "outputs": []
    },
    {
      "cell_type": "code",
      "source": [
        "ode=f(x).diff(x)-f(x)\n",
        "dsolve(ode)"
      ],
      "metadata": {
        "id": "Bd-jpSu-mLlM",
        "outputId": "6a8be489-97cd-41d1-dde9-e6ac86494cea",
        "colab": {
          "base_uri": "https://localhost:8080/",
          "height": 38
        }
      },
      "execution_count": 62,
      "outputs": [
        {
          "output_type": "execute_result",
          "data": {
            "text/latex": "$\\displaystyle f{\\left(x \\right)} = C_{1} e^{x}$",
            "text/plain": [
              "Eq(f(x), C1*exp(x))"
            ]
          },
          "metadata": {},
          "execution_count": 62
        }
      ]
    },
    {
      "cell_type": "code",
      "source": [
        "integrate(wyr,(x,0,1))"
      ],
      "metadata": {
        "id": "SDm1yewSmzej",
        "outputId": "dcc84f33-4b14-4182-8dd2-49c8961d3174",
        "colab": {
          "base_uri": "https://localhost:8080/",
          "height": 51
        }
      },
      "execution_count": 66,
      "outputs": [
        {
          "output_type": "execute_result",
          "data": {
            "text/latex": "$\\displaystyle \\frac{35}{6}$",
            "text/plain": [
              "35/6"
            ]
          },
          "metadata": {},
          "execution_count": 66
        }
      ]
    },
    {
      "cell_type": "code",
      "source": [
        "wyr.integrate(x)"
      ],
      "metadata": {
        "id": "YjKl6yF4m4yy",
        "outputId": "339f4920-76b1-4e71-af24-642998091f14",
        "colab": {
          "base_uri": "https://localhost:8080/",
          "height": 54
        }
      },
      "execution_count": 64,
      "outputs": [
        {
          "output_type": "execute_result",
          "data": {
            "text/latex": "$\\displaystyle \\frac{x^{3}}{3} + \\frac{5 x^{2}}{2} + 3 x$",
            "text/plain": [
              "x**3/3 + 5*x**2/2 + 3*x"
            ]
          },
          "metadata": {},
          "execution_count": 64
        }
      ]
    },
    {
      "cell_type": "code",
      "source": [
        "plot(wyr.integrate(x),wyr)"
      ],
      "metadata": {
        "id": "Y9a0tbKMnVlq",
        "outputId": "d1750965-846d-4315-fc08-256e4948a99b",
        "colab": {
          "base_uri": "https://localhost:8080/",
          "height": 314
        }
      },
      "execution_count": 71,
      "outputs": [
        {
          "output_type": "display_data",
          "data": {
            "image/png": "[encoded data removed]",
            "text/plain": [
              "<Figure size 432x288 with 1 Axes>"
            ]
          },
          "metadata": {
            "needs_background": "light"
          }
        },
        {
          "output_type": "execute_result",
          "data": {
            "text/plain": [
              "<sympy.plotting.plot.Plot at 0x7f1b0c345990>"
            ]
          },
          "metadata": {},
          "execution_count": 71
        }
      ]
    },
    {
      "cell_type": "code",
      "source": [
        "from sympy import *\n",
        "def pochodna(f,a):\n",
        "  h=symbols('h')\n",
        "  return limit((f.subs(x,a+h)-f.subs(x,a))/h,h,0)\n",
        "\n",
        "pochodna(x**2,1)"
      ],
      "metadata": {
        "id": "6CIEHHsentBK",
        "outputId": "3f0729cc-af8a-4a81-eb2e-454912fdc277",
        "colab": {
          "base_uri": "https://localhost:8080/",
          "height": 37
        }
      },
      "execution_count": 88,
      "outputs": [
        {
          "output_type": "execute_result",
          "data": {
            "text/latex": "$\\displaystyle 2$",
            "text/plain": [
              "2"
            ]
          },
          "metadata": {},
          "execution_count": 88
        }
      ]
    }
  ]
}