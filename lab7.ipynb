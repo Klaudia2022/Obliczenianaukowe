{
  "nbformat": 4,
  "nbformat_minor": 0,
  "metadata": {
    "colab": {
      "name": "Untitled5.ipynb",
      "provenance": [],
      "authorship_tag": "ABX9TyNKENTDFNrLUgOkUS4RtAZa",
      "include_colab_link": true
    },
    "kernelspec": {
      "name": "python3",
      "display_name": "Python 3"
    },
    "language_info": {
      "name": "python"
    }
  },
  "cells": [
    {
      "cell_type": "markdown",
      "metadata": {
        "id": "view-in-github",
        "colab_type": "text"
      },
      "source": [
        "<a href=\"https://colab.research.google.com/github/Klaudia2022/Obliczenianaukowe/blob/main/lab7.ipynb\" target=\"_parent\"><img src=\"https://colab.research.google.com/assets/colab-badge.svg\" alt=\"Open In Colab\"/></a>"
      ]
    },
    {
      "cell_type": "code",
      "execution_count": 1,
      "metadata": {
        "id": "h8NCdmlgYuRp"
      },
      "outputs": [],
      "source": [
        "import matplotlib.pyplot as plt\n",
        "import matplotlib as mpl\n",
        "import numpy as np"
      ]
    },
    {
      "cell_type": "code",
      "source": [
        "#skończyć w domu\n",
        "fig,ax=plt.subplots()\n",
        "ax.clear()\n",
        "x=np.linspace(-1,4,100)\n",
        "y=x**3-4*x**2+3*x-4\n",
        "ax.plot(x,y, '--', label='y=x^3-4x^2+3x-4', color='blue')\n",
        "ax.legend()\n",
        "\n",
        "import sympy as sp\n",
        "a=sp.symbols('a')\n",
        "g=a**3-4*a**2+3*a-4\n",
        "d=g.diff(a,2)\n",
        "ekstrema=sp.solve(g.diff(a))\n",
        "for el in ekstrema:\n",
        "  if (el>-1 and el<4)"
      ],
      "metadata": {
        "colab": {
          "base_uri": "https://localhost:8080/",
          "height": 130
        },
        "id": "ZEGHsBofb2yl",
        "outputId": "55312fce-3c80-4bde-a297-0c3c00106b6c"
      },
      "execution_count": 21,
      "outputs": [
        {
          "output_type": "error",
          "ename": "SyntaxError",
          "evalue": "ignored",
          "traceback": [
            "\u001b[0;36m  File \u001b[0;32m\"<ipython-input-21-9fd76649854d>\"\u001b[0;36m, line \u001b[0;32m13\u001b[0m\n\u001b[0;31m    for el in ekstrema:\u001b[0m\n\u001b[0m                       ^\u001b[0m\n\u001b[0;31mSyntaxError\u001b[0m\u001b[0;31m:\u001b[0m unexpected EOF while parsing\n"
          ]
        }
      ]
    },
    {
      "cell_type": "code",
      "source": [
        "data=np.random.randn(1000) #próbka z rozkladu  normalnego\n",
        "data2=np.random.random(1000)\n",
        "fig,ax=plt.subplots(1,2)\n",
        "ax[0].hist(data, aplha=0.5)\n",
        "ax[0].hist"
      ],
      "metadata": {
        "id": "40xN_wGelSFq"
      },
      "execution_count": null,
      "outputs": []
    },
    {
      "cell_type": "code",
      "source": [
        "x=np.linspace(-3,3,10)\n",
        "y=np.linspace(-3,3,10)\n",
        "X,Y =np.meshgrid(x,y)\n",
        "fig,ax=plt.subplots()\n",
        "WX=1-X**2+Y\n",
        "WY=1+X+Y**2\n",
        "WXN=WX/(np.sqrt((1-X**2+Y)**2))\n",
        "WYN=WY/(np.sqrt((1+X+Y**2)**2))\n",
        "ax.quiver(X,Y,WXN,WYN)"
      ],
      "metadata": {
        "colab": {
          "base_uri": "https://localhost:8080/",
          "height": 282
        },
        "id": "wrDlSaN6mmGa",
        "outputId": "bb218183-caad-46d5-9cf4-9602a76fc90a"
      },
      "execution_count": 24,
      "outputs": [
        {
          "output_type": "execute_result",
          "data": {
            "text/plain": [
              "<matplotlib.quiver.Quiver at 0x7f29e15a3110>"
            ]
          },
          "metadata": {},
          "execution_count": 24
        },
        {
          "output_type": "display_data",
          "data": {
            "text/plain": [
              "<Figure size 432x288 with 1 Axes>"
            ],
            "image/png": "[encoded data removed]"
          },
          "metadata": {
            "needs_background": "light"
          }
        }
      ]
    },
    {
      "cell_type": "code",
      "source": [
        "X=np.zeros((8,8))\n",
        "for i in range(8):\n",
        "  for j in range(8):\n",
        "    if (i+j)%2==0:\n",
        "      X[i,j]=1\n",
        "fig,ax=plt.subplots()\n",
        "ax.imshow(X, cmap='gray')\n",
        "ax.plot(np.arange(8),np.arange(8),'x')"
      ],
      "metadata": {
        "colab": {
          "base_uri": "https://localhost:8080/",
          "height": 282
        },
        "id": "QBvweuSnoHz3",
        "outputId": "3fc0d83a-7880-4308-b08e-dc13e4339fcb"
      },
      "execution_count": 34,
      "outputs": [
        {
          "output_type": "execute_result",
          "data": {
            "text/plain": [
              "[<matplotlib.lines.Line2D at 0x7f29e15c9d10>]"
            ]
          },
          "metadata": {},
          "execution_count": 34
        },
        {
          "output_type": "display_data",
          "data": {
            "text/plain": [
              "<Figure size 432x288 with 1 Axes>"
            ],
            "image/png": "[encoded data removed]"
          },
          "metadata": {
            "needs_background": "light"
          }
        }
      ]
    },
    {
      "cell_type": "code",
      "source": [
        ""
      ],
      "metadata": {
        "id": "zsUpDNuIrOEc"
      },
      "execution_count": null,
      "outputs": []
    }
  ]
}