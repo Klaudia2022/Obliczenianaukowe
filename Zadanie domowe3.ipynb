{
  "nbformat": 4,
  "nbformat_minor": 0,
  "metadata": {
    "colab": {
      "name": "Untitled4.ipynb",
      "provenance": [],
      "include_colab_link": true
    },
    "kernelspec": {
      "name": "python3",
      "display_name": "Python 3"
    },
    "language_info": {
      "name": "python"
    }
  },
  "cells": [
    {
      "cell_type": "markdown",
      "metadata": {
        "id": "view-in-github",
        "colab_type": "text"
      },
      "source": [
        "<a href=\"https://colab.research.google.com/github/Klaudia2022/Obliczenianaukowe/blob/main/Zadanie%20domowe3.ipynb\" target=\"_parent\"><img src=\"https://colab.research.google.com/assets/colab-badge.svg\" alt=\"Open In Colab\"/></a>"
      ]
    },
    {
      "cell_type": "markdown",
      "source": [
        "#### Zadanie 1\n",
        "Dany jest słownik student={'imie':'Jan', 'nazwisko':'kowalski','wiek':25, 'wzrost':188, 'waga':80, 'miasto':'Toruń'}\n",
        "\n",
        "* Wypisz jego elementy w postaci \"klucz -> wartość \"\n",
        "* Zmień 'wzrost' na 182 \n",
        "* Dodaj klucz 'wynik matury' z dowolną wartością\n",
        "* Usuń klucz (i wartość) 'miasto'"
      ],
      "metadata": {
        "id": "VRVE0JVybqgv"
      }
    },
    {
      "cell_type": "code",
      "source": [
        "student={'imie':'Jan', 'nazwisko':'kowalski','wiek':25, 'wzrost':188, 'waga':80, 'miasto':'Toruń'}"
      ],
      "metadata": {
        "id": "L2nHz72XbnSi"
      },
      "execution_count": null,
      "outputs": []
    },
    {
      "cell_type": "code",
      "source": [
        "for klucz in student.keys():\n",
        "  print(klucz+'->'+str(student[klucz]))"
      ],
      "metadata": {
        "colab": {
          "base_uri": "https://localhost:8080/"
        },
        "id": "jw_WIC4OdGTm",
        "outputId": "8dbd2cb5-18e6-4bad-eaf7-090e5b681176"
      },
      "execution_count": null,
      "outputs": [
        {
          "output_type": "stream",
          "name": "stdout",
          "text": [
            "imie->Jan\n",
            "nazwisko->kowalski\n",
            "wiek->25\n",
            "wzrost->188\n",
            "waga->80\n",
            "miasto->Toruń\n"
          ]
        }
      ]
    },
    {
      "cell_type": "code",
      "source": [
        "student['wzrost']=182"
      ],
      "metadata": {
        "id": "gJuZSyozd-Ln"
      },
      "execution_count": null,
      "outputs": []
    },
    {
      "cell_type": "code",
      "source": [
        "student"
      ],
      "metadata": {
        "colab": {
          "base_uri": "https://localhost:8080/"
        },
        "id": "KcF-f-gmeO52",
        "outputId": "9ba5bcd5-ff51-4c41-e2c4-1ec0f932e9fc"
      },
      "execution_count": null,
      "outputs": [
        {
          "output_type": "execute_result",
          "data": {
            "text/plain": [
              "{'imie': 'Jan',\n",
              " 'miasto': 'Toruń',\n",
              " 'nazwisko': 'kowalski',\n",
              " 'waga': 80,\n",
              " 'wiek': 25,\n",
              " 'wzrost': 182}"
            ]
          },
          "metadata": {},
          "execution_count": 8
        }
      ]
    },
    {
      "cell_type": "code",
      "source": [
        "student['wynik matury']=20"
      ],
      "metadata": {
        "id": "JLbGiXRGeTNS"
      },
      "execution_count": null,
      "outputs": []
    },
    {
      "cell_type": "code",
      "source": [
        "del student['miasto']"
      ],
      "metadata": {
        "id": "v_ltxeDkecAQ"
      },
      "execution_count": null,
      "outputs": []
    },
    {
      "cell_type": "code",
      "source": [
        "student"
      ],
      "metadata": {
        "colab": {
          "base_uri": "https://localhost:8080/"
        },
        "id": "la-EDbxberm-",
        "outputId": "296bde50-2f88-401e-912d-cc30cb3306bb"
      },
      "execution_count": null,
      "outputs": [
        {
          "output_type": "execute_result",
          "data": {
            "text/plain": [
              "{'imie': 'Jan',\n",
              " 'nazwisko': 'kowalski',\n",
              " 'waga': 80,\n",
              " 'wiek': 25,\n",
              " 'wynik matury': 20,\n",
              " 'wzrost': 182}"
            ]
          },
          "metadata": {},
          "execution_count": 11
        }
      ]
    },
    {
      "cell_type": "code",
      "source": [
        ""
      ],
      "metadata": {
        "id": "7eGQB6rOetHg"
      },
      "execution_count": null,
      "outputs": []
    },
    {
      "cell_type": "code",
      "source": [
        ""
      ],
      "metadata": {
        "id": "-hMsykpme2uE"
      },
      "execution_count": null,
      "outputs": []
    },
    {
      "cell_type": "markdown",
      "source": [
        "####Zadanie 2\n",
        "Dane są dwie listy równej długości\n",
        "\n",
        "klucze=['klucz1','klucz2','inny klucz', 'test']\n",
        "wartosci=[1,2,5,1]\n",
        "Utwórz w sposób zautomatyzowany (nie ręcznie) słownik, który kolejnym kluczom przypisze kolejne wartości."
      ],
      "metadata": {
        "id": "Mbs9JRESe3aH"
      }
    },
    {
      "cell_type": "code",
      "source": [
        "klucze=['klucz1','klucz2','inny klucz', 'test']\n",
        "wartosci=[1,2,5,1]\n",
        "nowy=zip(klucze,wartosci)"
      ],
      "metadata": {
        "id": "Irf6Ra8He3vW"
      },
      "execution_count": null,
      "outputs": []
    },
    {
      "cell_type": "code",
      "source": [
        "list(lista)"
      ],
      "metadata": {
        "colab": {
          "base_uri": "https://localhost:8080/"
        },
        "id": "NRyr7mo9f0mK",
        "outputId": "60f92718-6155-4b81-ea33-9a1c59a2fb26"
      },
      "execution_count": null,
      "outputs": [
        {
          "output_type": "execute_result",
          "data": {
            "text/plain": [
              "[('klucz1', 1), ('klucz2', 2), ('inny klucz', 5), ('test', 1)]"
            ]
          },
          "metadata": {},
          "execution_count": 15
        }
      ]
    },
    {
      "cell_type": "code",
      "source": [
        "dict(nowy)"
      ],
      "metadata": {
        "colab": {
          "base_uri": "https://localhost:8080/"
        },
        "id": "Zm7Hmg72f2AC",
        "outputId": "2c52930d-be45-41cc-8c2f-6b35cf2deb8f"
      },
      "execution_count": null,
      "outputs": [
        {
          "output_type": "execute_result",
          "data": {
            "text/plain": [
              "{'inny klucz': 5, 'klucz1': 1, 'klucz2': 2, 'test': 1}"
            ]
          },
          "metadata": {},
          "execution_count": 18
        }
      ]
    },
    {
      "cell_type": "code",
      "source": [
        ""
      ],
      "metadata": {
        "id": "cr3d737If_vu"
      },
      "execution_count": null,
      "outputs": []
    },
    {
      "cell_type": "markdown",
      "source": [
        "#### Zadanie 3\n",
        "Napisz funkcję obliczającą $n$-ty wyraz ciągu zadanego rekurencyjnie\n",
        "1. $a_0=1$, $a_{k+1}=2a_k$ dla $k\\geq 0$\n",
        "2. $b_0=0$, $b_1=1$, $b_{k+2}=b_{k+1}+b_k$ dla $k\\geq 0$"
      ],
      "metadata": {
        "id": "OlFwnSJrgbDt"
      }
    },
    {
      "cell_type": "code",
      "source": [
        "def ciag(n):\n",
        "  if n==0:\n",
        "    return 1\n",
        "  else:\n",
        "    return 2*ciag(n-1)"
      ],
      "metadata": {
        "id": "CshNNXCDgbYW"
      },
      "execution_count": null,
      "outputs": []
    },
    {
      "cell_type": "code",
      "source": [
        "ciag(5)"
      ],
      "metadata": {
        "colab": {
          "base_uri": "https://localhost:8080/"
        },
        "id": "ub8s7XvFiP3q",
        "outputId": "602bb080-a83a-4141-e5ae-4657c7c693ff"
      },
      "execution_count": null,
      "outputs": [
        {
          "output_type": "execute_result",
          "data": {
            "text/plain": [
              "32"
            ]
          },
          "metadata": {},
          "execution_count": 20
        }
      ]
    },
    {
      "cell_type": "code",
      "source": [
        ""
      ],
      "metadata": {
        "id": "7PeQiFx1iQ56"
      },
      "execution_count": null,
      "outputs": []
    },
    {
      "cell_type": "markdown",
      "source": [
        "# Sympy"
      ],
      "metadata": {
        "id": "QZv9ajMpiWNO"
      }
    },
    {
      "cell_type": "code",
      "source": [
        "from sympy import *\n"
      ],
      "metadata": {
        "id": "2xM5UL7UiXR6"
      },
      "execution_count": null,
      "outputs": []
    },
    {
      "cell_type": "code",
      "source": [
        "sin(30)"
      ],
      "metadata": {
        "colab": {
          "base_uri": "https://localhost:8080/",
          "height": 38
        },
        "id": "ftuTL0Vyik2Q",
        "outputId": "30271d1f-6361-423f-d600-b24641f0455b"
      },
      "execution_count": null,
      "outputs": [
        {
          "output_type": "execute_result",
          "data": {
            "text/latex": "$\\displaystyle \\sin{\\left(30 \\right)}$",
            "text/plain": [
              "sin(30)"
            ]
          },
          "metadata": {},
          "execution_count": 27
        }
      ]
    },
    {
      "cell_type": "code",
      "source": [
        "import math"
      ],
      "metadata": {
        "id": "g2B723FIimzn"
      },
      "execution_count": null,
      "outputs": []
    },
    {
      "cell_type": "code",
      "source": [
        "math.sin(30)"
      ],
      "metadata": {
        "colab": {
          "base_uri": "https://localhost:8080/"
        },
        "id": "HBgO55Veit76",
        "outputId": "b8d107c9-2766-48d6-8b15-c526680a8ce7"
      },
      "execution_count": null,
      "outputs": [
        {
          "output_type": "execute_result",
          "data": {
            "text/plain": [
              "-0.9880316240928618"
            ]
          },
          "metadata": {},
          "execution_count": 29
        }
      ]
    },
    {
      "cell_type": "code",
      "source": [
        "x,y=symbols('x,y')"
      ],
      "metadata": {
        "id": "m8pzejWEjBm9"
      },
      "execution_count": null,
      "outputs": []
    },
    {
      "cell_type": "code",
      "source": [
        "x"
      ],
      "metadata": {
        "colab": {
          "base_uri": "https://localhost:8080/",
          "height": 39
        },
        "id": "MPUVRWk3jN7C",
        "outputId": "27c55697-6646-4c3e-843a-50074e312771"
      },
      "execution_count": null,
      "outputs": [
        {
          "output_type": "execute_result",
          "data": {
            "text/latex": "$\\displaystyle x$",
            "text/plain": [
              "x"
            ]
          },
          "metadata": {},
          "execution_count": 35
        }
      ]
    },
    {
      "cell_type": "code",
      "source": [
        "y"
      ],
      "metadata": {
        "colab": {
          "base_uri": "https://localhost:8080/",
          "height": 39
        },
        "id": "oJaK8FdwjO2X",
        "outputId": "b892adbd-5d7c-4aa9-f0f7-1d95a873a82f"
      },
      "execution_count": null,
      "outputs": [
        {
          "output_type": "execute_result",
          "data": {
            "text/latex": "$\\displaystyle y$",
            "text/plain": [
              "y"
            ]
          },
          "metadata": {},
          "execution_count": 36
        }
      ]
    },
    {
      "cell_type": "code",
      "source": [
        "cos(x)**2+sin(x)**2"
      ],
      "metadata": {
        "colab": {
          "base_uri": "https://localhost:8080/",
          "height": 39
        },
        "id": "0CAm1mSVjW-W",
        "outputId": "def2c3bd-02bd-4574-97b0-05811dc08d92"
      },
      "execution_count": null,
      "outputs": [
        {
          "output_type": "execute_result",
          "data": {
            "text/latex": "$\\displaystyle \\sin^{2}{\\left(x \\right)} + \\cos^{2}{\\left(x \\right)}$",
            "text/plain": [
              "sin(x)**2 + cos(x)**2"
            ]
          },
          "metadata": {},
          "execution_count": 6
        }
      ]
    },
    {
      "cell_type": "code",
      "source": [
        "simplify(_)"
      ],
      "metadata": {
        "colab": {
          "base_uri": "https://localhost:8080/",
          "height": 38
        },
        "id": "LcWaFqLujtr7",
        "outputId": "af1aae49-0e0e-4b3e-e50b-2314e2c7bfae"
      },
      "execution_count": null,
      "outputs": [
        {
          "output_type": "execute_result",
          "data": {
            "text/latex": "$\\displaystyle 1$",
            "text/plain": [
              "1"
            ]
          },
          "metadata": {},
          "execution_count": 7
        }
      ]
    },
    {
      "cell_type": "code",
      "source": [
        "solve(2*x-5)"
      ],
      "metadata": {
        "colab": {
          "base_uri": "https://localhost:8080/"
        },
        "id": "fw6P4M2Ej4TI",
        "outputId": "0f105c61-aa15-4fb9-ecbb-7c90b715cb18"
      },
      "execution_count": null,
      "outputs": [
        {
          "output_type": "execute_result",
          "data": {
            "text/plain": [
              "[5/2]"
            ]
          },
          "metadata": {},
          "execution_count": 9
        }
      ]
    },
    {
      "cell_type": "code",
      "source": [
        "wyr=x**2+5*x+3"
      ],
      "metadata": {
        "id": "jUVN0eYxk48L"
      },
      "execution_count": null,
      "outputs": []
    },
    {
      "cell_type": "code",
      "source": [
        "wyr.subs(x,1)"
      ],
      "metadata": {
        "colab": {
          "base_uri": "https://localhost:8080/",
          "height": 38
        },
        "id": "VhPsHbj2lLP3",
        "outputId": "d236251b-ec2e-4d42-e2ed-323c95e77c37"
      },
      "execution_count": null,
      "outputs": [
        {
          "output_type": "execute_result",
          "data": {
            "text/latex": "$\\displaystyle 9$",
            "text/plain": [
              "9"
            ]
          },
          "metadata": {},
          "execution_count": 11
        }
      ]
    },
    {
      "cell_type": "code",
      "source": [
        "sin(30).evalf()"
      ],
      "metadata": {
        "colab": {
          "base_uri": "https://localhost:8080/",
          "height": 38
        },
        "id": "xjSvdkTZlUxx",
        "outputId": "032588fa-697e-4931-ab62-6247a7cb327b"
      },
      "execution_count": null,
      "outputs": [
        {
          "output_type": "execute_result",
          "data": {
            "text/latex": "$\\displaystyle -0.988031624092862$",
            "text/plain": [
              "-0.988031624092862"
            ]
          },
          "metadata": {},
          "execution_count": 14
        }
      ]
    },
    {
      "cell_type": "code",
      "source": [
        "wyr.diff(x)"
      ],
      "metadata": {
        "colab": {
          "base_uri": "https://localhost:8080/",
          "height": 39
        },
        "id": "nkWOeSjgld1E",
        "outputId": "9b7879af-8655-4298-ddaa-7d9b4259024d"
      },
      "execution_count": null,
      "outputs": [
        {
          "output_type": "execute_result",
          "data": {
            "text/latex": "$\\displaystyle 2 x + 5$",
            "text/plain": [
              "2*x + 5"
            ]
          },
          "metadata": {},
          "execution_count": 15
        }
      ]
    },
    {
      "cell_type": "code",
      "source": [
        "f=symbols('f',cls=Function)"
      ],
      "metadata": {
        "id": "0w6uCRcplx80"
      },
      "execution_count": 63,
      "outputs": []
    },
    {
      "cell_type": "code",
      "source": [
        "g=Function('g')"
      ],
      "metadata": {
        "id": "BUzqB8-fmFhA"
      },
      "execution_count": 64,
      "outputs": []
    },
    {
      "cell_type": "code",
      "source": [
        "ODE=f(x).diff(x)-f(x)"
      ],
      "metadata": {
        "id": "_jPj2pkXmIcu"
      },
      "execution_count": null,
      "outputs": []
    },
    {
      "cell_type": "code",
      "source": [
        "dsolve(ODE)"
      ],
      "metadata": {
        "colab": {
          "base_uri": "https://localhost:8080/",
          "height": 39
        },
        "id": "cHj4pmTTmabN",
        "outputId": "66925c44-fb47-4ae2-a20c-1fdf01698b8c"
      },
      "execution_count": null,
      "outputs": [
        {
          "output_type": "execute_result",
          "data": {
            "text/latex": "$\\displaystyle f{\\left(x \\right)} = C_{1} e^{x}$",
            "text/plain": [
              "Eq(f(x), C1*exp(x))"
            ]
          },
          "metadata": {},
          "execution_count": 23
        }
      ]
    },
    {
      "cell_type": "code",
      "source": [
        "integrate(wyr,(x,0,1))"
      ],
      "metadata": {
        "colab": {
          "base_uri": "https://localhost:8080/",
          "height": 51
        },
        "id": "2jwtUW9Rmmj_",
        "outputId": "cb8eb8f8-c9d0-46e1-d919-65e1b0abe882"
      },
      "execution_count": null,
      "outputs": [
        {
          "output_type": "execute_result",
          "data": {
            "text/latex": "$\\displaystyle \\frac{35}{6}$",
            "text/plain": [
              "35/6"
            ]
          },
          "metadata": {},
          "execution_count": 26
        }
      ]
    },
    {
      "cell_type": "code",
      "source": [
        "plot(wyr,(x,0,5))"
      ],
      "metadata": {
        "colab": {
          "base_uri": "https://localhost:8080/",
          "height": 314
        },
        "id": "rv-MrVeMm_eo",
        "outputId": "61de64a7-2a2c-41f7-8eb1-7cc955bc6ae7"
      },
      "execution_count": null,
      "outputs": [
        {
          "output_type": "display_data",
          "data": {
            "image/png": "[encoded data removed]",
            "text/plain": [
              "<Figure size 432x288 with 1 Axes>"
            ]
          },
          "metadata": {
            "needs_background": "light"
          }
        },
        {
          "output_type": "execute_result",
          "data": {
            "text/plain": [
              "<sympy.plotting.plot.Plot at 0x7f31d1181310>"
            ]
          },
          "metadata": {},
          "execution_count": 28
        }
      ]
    },
    {
      "cell_type": "code",
      "source": [
        ""
      ],
      "metadata": {
        "id": "MLhCnFIEnZ06"
      },
      "execution_count": null,
      "outputs": []
    },
    {
      "cell_type": "markdown",
      "source": [
        "#### Zadanie 4\n",
        "Napisz funkcję $pochodna(funkcja,punkt)$, która oblicza z definicji pochodną danej funkcji w punkcie. Korzystając ze swojej funkcji oblicz\n",
        "\n",
        "* pochodną funkcji $e^{x^2}$ w punkcie $1$\n",
        "* pochodną funkcji $x*\\ln(\\sqrt(x))$ w punkcie $1$\n",
        "\n",
        "Porównaj wyniki do tych uzyskanych za pomocą metody diff"
      ],
      "metadata": {
        "id": "2bye7ZPXn3tW"
      }
    },
    {
      "cell_type": "code",
      "source": [
        "from sympy import *\n",
        "def pochodna(f,x,a):\n",
        "  h=symbols('h')\n",
        "  return limit((f.subs(x,a+h)-f.subs(x,a))/h,h,0)\n",
        "\n",
        "pochodna(y**2,y,1)"
      ],
      "metadata": {
        "colab": {
          "base_uri": "https://localhost:8080/",
          "height": 38
        },
        "id": "EVUgL242n4Gm",
        "outputId": "46d61fce-763b-4922-9029-eed2b24e78c9"
      },
      "execution_count": null,
      "outputs": [
        {
          "output_type": "execute_result",
          "data": {
            "text/latex": "$\\displaystyle 2$",
            "text/plain": [
              "2"
            ]
          },
          "metadata": {},
          "execution_count": 32
        }
      ]
    },
    {
      "cell_type": "code",
      "source": [
        ""
      ],
      "metadata": {
        "id": "hCr2fTUGoWB-"
      },
      "execution_count": null,
      "outputs": []
    },
    {
      "cell_type": "markdown",
      "source": [
        "## Zadanie domowe\n",
        "a) Napisz funkcję obliczającą wartość wielomianu interpolacyjnego Lagrange'a w zadanym punkcie. Funkcja powinna przyjmować następujące argumenty:\n",
        "\n",
        "X - tablicę wartości  xi ,\n",
        "Y - tablicę wartości  yi ,\n",
        "x - punkt, w którym liczymy wartość wielomianu.\n",
        "b) Dodaj opcjonalny argument do powyższej funkcji, który pozwoli wyświetlić wzór interpolacyjny Lagrange'a w postaci symbolicznej.\n",
        "\n",
        "c) sporządź wykres otrzymanego wielomianu na podstawie symbolicznego wzoru z b)\n",
        "\n",
        "d) wybierz dwie funkcje: wielomian stopnia 5 i inną funkcję niebędącą wielomianem. Sporządź ich aproksymacje za pomocą 4 wybranych punktów. Porównaj wykresy oryginalnych funkcji i ich przybliżeń. Sformułuj wnioski."
      ],
      "metadata": {
        "id": "FVOv4f_YtYXL"
      }
    },
    {
      "cell_type": "code",
      "source": [
        "#a\n",
        "from sympy import *\n",
        "def wielomianp(X,Y,x):\n",
        "  h=symbols('h')\n",
        "  f=Function('f')\n",
        "  f=0\n",
        "  if len(X)!=len(Y):\n",
        "    print(\"X i Y muszą mieć tyle samo elementów\")\n",
        "  else:\n",
        "    for i in range(len(Y)):\n",
        "      il=Y[i]\n",
        "      for j in range(len(X)):\n",
        "        if j==i:\n",
        "          continue\n",
        "        il=il*(h-X[j])/(X[i]-X[j])\n",
        "      f=f+il\n",
        "  return f.subs(h,x)\n",
        "\n",
        "wielomianp([1,2,3],[0,1,4],3)"
      ],
      "metadata": {
        "id": "-XcvdaKHtXtk",
        "colab": {
          "base_uri": "https://localhost:8080/",
          "height": 38
        },
        "outputId": "39de1493-16bc-47a3-c6e8-1af66cffcfeb"
      },
      "execution_count": 62,
      "outputs": [
        {
          "output_type": "execute_result",
          "data": {
            "text/plain": [
              "4"
            ],
            "text/latex": "$\\displaystyle 4$"
          },
          "metadata": {},
          "execution_count": 62
        }
      ]
    },
    {
      "cell_type": "code",
      "source": [
        "#b\n",
        "from sympy import *\n",
        "def wielomian(X,Y,x,t=True):\n",
        "  h=symbols('h')\n",
        "  f=Function('f')\n",
        "  f=0\n",
        "  if len(X)!=len(Y):\n",
        "    print(\"X i Y muszą mieć tyle samo elementów\")\n",
        "  else:\n",
        "    for i in range(len(Y)):\n",
        "      il=Y[i]\n",
        "      for j in range(len(X)):\n",
        "        if j==i:\n",
        "          continue\n",
        "        il=il*(h-X[j])/(X[i]-X[j])\n",
        "      f=f+il\n",
        "  if t==True:\n",
        "    return f.subs(h,x), simplify(f)\n",
        "  else:\n",
        "    return f.subs(h,x)\n",
        "\n",
        "#c \n",
        "wyr=wielomian([1,2,3],[0,1,4],5,True)\n",
        "plot(wyr[1],(h,-4,6))\n",
        "\n",
        "#d\n",
        "# wielomian 5-tego stopnia w(x)=x**5+10x**4-6x**2+x-2\n",
        "# inna funckcja sin(x)\n",
        "h=symbols('h')\n",
        "X=[]\n",
        "for i in range(4):\n",
        "  X.append(float(input(\"Podaj liczbę \")))\n",
        "  i+=1\n",
        "\n",
        "\n",
        "f=h**5+2*h**4-3*h**2+h-2\n",
        "Yw=[f.subs(h,i) for i in X]\n",
        "print(wielomian(X,Yw,0)[1])\n",
        "wykres1=wielomian(X,Yw,0)[1]\n",
        "plot(wykres1,f,(h,-10,10))\n",
        "\n",
        "g=sin(h)\n",
        "Ys=[g.subs(h,i) for i in X]\n",
        "print(wielomian(X,Ys,0)[1])\n",
        "wykres2=wielomian(X,Ys,0)[1]\n",
        "plot(wykres2, g,(h,-10,10))"
      ],
      "metadata": {
        "colab": {
          "base_uri": "https://localhost:8080/",
          "height": 978
        },
        "id": "yr99HCNDqsM8",
        "outputId": "e398d473-3d2f-4fc0-a1f9-8f564a3af6d7"
      },
      "execution_count": 100,
      "outputs": [
        {
          "output_type": "display_data",
          "data": {
            "text/plain": [
              "<Figure size 432x288 with 1 Axes>"
            ],
            "image/png": "[encoded data removed]"
          },
          "metadata": {
            "needs_background": "light"
          }
        },
        {
          "output_type": "stream",
          "name": "stdout",
          "text": [
            "Podaj liczbę 0\n",
            "Podaj liczbę 1\n",
            "Podaj liczbę 2\n",
            "Podaj liczbę 3\n",
            "37.0*h**3 - 85.0*h**2 + 49.0*h - 2.0\n"
          ]
        },
        {
          "output_type": "display_data",
          "data": {
            "text/plain": [
              "<Figure size 432x288 with 1 Axes>"
            ],
            "image/png": "[encoded data removed]"
          },
          "metadata": {
            "needs_background": "light"
          }
        },
        {
          "output_type": "stream",
          "name": "stdout",
          "text": [
            "h*(-0.0103932196655814*h**2 - 0.355642612398312*h + 1.20750681687179)\n"
          ]
        },
        {
          "output_type": "display_data",
          "data": {
            "text/plain": [
              "<Figure size 432x288 with 1 Axes>"
            ],
            "image/png": "[encoded data removed]"
          },
          "metadata": {
            "needs_background": "light"
          }
        },
        {
          "output_type": "execute_result",
          "data": {
            "text/plain": [
              "<sympy.plotting.plot.Plot at 0x7ff53d521090>"
            ]
          },
          "metadata": {},
          "execution_count": 100
        }
      ]
    },
    {
      "cell_type": "markdown",
      "source": [
        "d) Wnioski:\n",
        "Metoda przybliżenia wielomianem interpolacyjnym Lagrange'a najlepiej działa dla funckji wielomianowych (przybliża na większym odcinku), a przy odpowiedniu wielu węzłach interpolacji (punkty przez które funkcja musi przejść) wykres będzie bardziej dokładny\n",
        "\n"
      ],
      "metadata": {
        "id": "Xt0s0QnR4Xal"
      }
    }
  ]
}