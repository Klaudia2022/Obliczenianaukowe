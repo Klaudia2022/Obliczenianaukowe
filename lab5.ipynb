{
  "nbformat": 4,
  "nbformat_minor": 0,
  "metadata": {
    "colab": {
      "name": "lab5.ipynb",
      "provenance": [],
      "authorship_tag": "ABX9TyNPMx7IvfthGTT6mF4pmTE1",
      "include_colab_link": true
    },
    "kernelspec": {
      "name": "python3",
      "display_name": "Python 3"
    },
    "language_info": {
      "name": "python"
    }
  },
  "cells": [
    {
      "cell_type": "markdown",
      "metadata": {
        "id": "view-in-github",
        "colab_type": "text"
      },
      "source": [
        "<a href=\"https://colab.research.google.com/github/Klaudia2022/Obliczenianaukowe/blob/main/lab5.ipynb\" target=\"_parent\"><img src=\"https://colab.research.google.com/assets/colab-badge.svg\" alt=\"Open In Colab\"/></a>"
      ]
    },
    {
      "cell_type": "code",
      "execution_count": 1,
      "metadata": {
        "id": "sM2abEU1jGXs"
      },
      "outputs": [],
      "source": [
        "import numpy as np\n",
        "from scipy.linalg import block_diag"
      ]
    },
    {
      "cell_type": "code",
      "source": [
        "Mat1=block_diag(np.ones((2,2)),np.zeros((2,2)),3,(4*np.ones((2,2))-2*np.eye(2)))"
      ],
      "metadata": {
        "id": "JwMsjf5gjSbV"
      },
      "execution_count": 2,
      "outputs": []
    },
    {
      "cell_type": "code",
      "source": [
        "Mat1.shape"
      ],
      "metadata": {
        "colab": {
          "base_uri": "https://localhost:8080/"
        },
        "id": "9u81eS8qkA-k",
        "outputId": "a64ed6b0-ff06-4501-fe80-34d10b8e4e4b"
      },
      "execution_count": 3,
      "outputs": [
        {
          "output_type": "execute_result",
          "data": {
            "text/plain": [
              "(7, 7)"
            ]
          },
          "metadata": {},
          "execution_count": 3
        }
      ]
    },
    {
      "cell_type": "code",
      "source": [
        "Mat1.reshape((1,49))"
      ],
      "metadata": {
        "colab": {
          "base_uri": "https://localhost:8080/"
        },
        "id": "DF8jAny-kDr0",
        "outputId": "ef61f28c-eebb-4dd9-b221-d359ae241a67"
      },
      "execution_count": 9,
      "outputs": [
        {
          "output_type": "execute_result",
          "data": {
            "text/plain": [
              "array([[1., 1., 0., 0., 0., 0., 0., 1., 1., 0., 0., 0., 0., 0., 0., 0.,\n",
              "        0., 0., 0., 0., 0., 0., 0., 0., 0., 0., 0., 0., 0., 0., 0., 0.,\n",
              "        3., 0., 0., 0., 0., 0., 0., 0., 2., 4., 0., 0., 0., 0., 0., 4.,\n",
              "        2.]])"
            ]
          },
          "metadata": {},
          "execution_count": 9
        }
      ]
    },
    {
      "cell_type": "code",
      "source": [
        "tab=np.array([[1,2,3],[4,5,6]])\n",
        "tab"
      ],
      "metadata": {
        "colab": {
          "base_uri": "https://localhost:8080/"
        },
        "id": "u4vHIUG4kHfs",
        "outputId": "6318d963-eb73-4251-8e1d-03fdc789db31"
      },
      "execution_count": 7,
      "outputs": [
        {
          "output_type": "execute_result",
          "data": {
            "text/plain": [
              "array([[1, 2, 3],\n",
              "       [4, 5, 6]])"
            ]
          },
          "metadata": {},
          "execution_count": 7
        }
      ]
    },
    {
      "cell_type": "code",
      "source": [
        "tab.reshape((3,2))"
      ],
      "metadata": {
        "colab": {
          "base_uri": "https://localhost:8080/"
        },
        "id": "grlL-jz1kmjy",
        "outputId": "36bf7dda-e2b6-427c-9f70-584f8909cc73"
      },
      "execution_count": 8,
      "outputs": [
        {
          "output_type": "execute_result",
          "data": {
            "text/plain": [
              "array([[1, 2],\n",
              "       [3, 4],\n",
              "       [5, 6]])"
            ]
          },
          "metadata": {},
          "execution_count": 8
        }
      ]
    },
    {
      "cell_type": "code",
      "source": [
        "tab.reshape((1,6))"
      ],
      "metadata": {
        "colab": {
          "base_uri": "https://localhost:8080/"
        },
        "id": "_PKndqFgkwLy",
        "outputId": "d643a5ab-9991-48bd-eb00-bfab1f00d62a"
      },
      "execution_count": 10,
      "outputs": [
        {
          "output_type": "execute_result",
          "data": {
            "text/plain": [
              "array([[1, 2, 3, 4, 5, 6]])"
            ]
          },
          "metadata": {},
          "execution_count": 10
        }
      ]
    },
    {
      "cell_type": "code",
      "source": [
        "tab.reshape(-1) #układa w tablicę 1 na odpowiednią liczbę kolumn"
      ],
      "metadata": {
        "colab": {
          "base_uri": "https://localhost:8080/"
        },
        "id": "WPDq-UAMk24S",
        "outputId": "ed7748d8-1ed2-46f5-da1e-3743b71c4f6f"
      },
      "execution_count": 11,
      "outputs": [
        {
          "output_type": "execute_result",
          "data": {
            "text/plain": [
              "array([1, 2, 3, 4, 5, 6])"
            ]
          },
          "metadata": {},
          "execution_count": 11
        }
      ]
    },
    {
      "cell_type": "code",
      "source": [
        "tablica=np.array([1,2,3,4,5,6,7,8,9,10,11,12,13,14,15,16])\n",
        "tablica.reshape((4,4))"
      ],
      "metadata": {
        "colab": {
          "base_uri": "https://localhost:8080/"
        },
        "id": "AxLVDg0jlCD6",
        "outputId": "1b90ed77-6934-492c-aece-3cb29070f8ce"
      },
      "execution_count": 13,
      "outputs": [
        {
          "output_type": "execute_result",
          "data": {
            "text/plain": [
              "array([[ 1,  2,  3,  4],\n",
              "       [ 5,  6,  7,  8],\n",
              "       [ 9, 10, 11, 12],\n",
              "       [13, 14, 15, 16]])"
            ]
          },
          "metadata": {},
          "execution_count": 13
        }
      ]
    },
    {
      "cell_type": "code",
      "source": [
        "np.arange(1,17).reshape((4,4))"
      ],
      "metadata": {
        "colab": {
          "base_uri": "https://localhost:8080/"
        },
        "id": "TIyONkB-lYyq",
        "outputId": "bd3f9a94-166e-47b9-84de-1adb86427e34"
      },
      "execution_count": 15,
      "outputs": [
        {
          "output_type": "execute_result",
          "data": {
            "text/plain": [
              "array([[ 1,  2,  3,  4],\n",
              "       [ 5,  6,  7,  8],\n",
              "       [ 9, 10, 11, 12],\n",
              "       [13, 14, 15, 16]])"
            ]
          },
          "metadata": {},
          "execution_count": 15
        }
      ]
    },
    {
      "cell_type": "code",
      "source": [
        "#Zadanie\n",
        "tab1=100*np.ones((5,6,3))\n",
        "for i in range(5):\n",
        "  for j in range(6):\n",
        "    for k in range(3):\n",
        "      tab1[i,j,k]+=60*i+10*j+300*k\n",
        "\n",
        "tab1"
      ],
      "metadata": {
        "colab": {
          "base_uri": "https://localhost:8080/"
        },
        "id": "9uYchixHltS5",
        "outputId": "a9a96320-b50c-437c-9a48-f25ff05f22c4"
      },
      "execution_count": 82,
      "outputs": [
        {
          "output_type": "execute_result",
          "data": {
            "text/plain": [
              "array([[[100., 400., 700.],\n",
              "        [110., 410., 710.],\n",
              "        [120., 420., 720.],\n",
              "        [130., 430., 730.],\n",
              "        [140., 440., 740.],\n",
              "        [150., 450., 750.]],\n",
              "\n",
              "       [[160., 460., 760.],\n",
              "        [170., 470., 770.],\n",
              "        [180., 480., 780.],\n",
              "        [190., 490., 790.],\n",
              "        [200., 500., 800.],\n",
              "        [210., 510., 810.]],\n",
              "\n",
              "       [[220., 520., 820.],\n",
              "        [230., 530., 830.],\n",
              "        [240., 540., 840.],\n",
              "        [250., 550., 850.],\n",
              "        [260., 560., 860.],\n",
              "        [270., 570., 870.]],\n",
              "\n",
              "       [[280., 580., 880.],\n",
              "        [290., 590., 890.],\n",
              "        [300., 600., 900.],\n",
              "        [310., 610., 910.],\n",
              "        [320., 620., 920.],\n",
              "        [330., 630., 930.]],\n",
              "\n",
              "       [[340., 640., 940.],\n",
              "        [350., 650., 950.],\n",
              "        [360., 660., 960.],\n",
              "        [370., 670., 970.],\n",
              "        [380., 680., 980.],\n",
              "        [390., 690., 990.]]])"
            ]
          },
          "metadata": {},
          "execution_count": 82
        }
      ]
    },
    {
      "cell_type": "code",
      "source": [
        "t1=np.array([[1],[2]])\n",
        "t2=np.array([[3,4]])\n",
        "print(t1,t2)\n",
        "tt=t1+t2"
      ],
      "metadata": {
        "colab": {
          "base_uri": "https://localhost:8080/"
        },
        "id": "y3FygDi_nbh_",
        "outputId": "29d5c9a9-d6fa-4272-8fe7-bb64e6fb2e7f"
      },
      "execution_count": 46,
      "outputs": [
        {
          "output_type": "stream",
          "name": "stdout",
          "text": [
            "[[1]\n",
            " [2]] [[3 4]]\n"
          ]
        }
      ]
    },
    {
      "cell_type": "code",
      "source": [
        "tablica1=np.arange(0,241,60).reshape((5,1,1))\n",
        "tablica2=np.arange(0,51,10).reshape((1,6,1))\n",
        "tablica3=np.arange(0,601,300).reshape((1,1,3))\n",
        "tabl=tablica3+tablica2+tablica1\n",
        "tabl"
      ],
      "metadata": {
        "colab": {
          "base_uri": "https://localhost:8080/"
        },
        "id": "dNtJiijDoWh2",
        "outputId": "201f7eb2-962e-4394-e4d8-586175bbcf5a"
      },
      "execution_count": 84,
      "outputs": [
        {
          "output_type": "execute_result",
          "data": {
            "text/plain": [
              "array([[[  0, 300, 600],\n",
              "        [ 10, 310, 610],\n",
              "        [ 20, 320, 620],\n",
              "        [ 30, 330, 630],\n",
              "        [ 40, 340, 640],\n",
              "        [ 50, 350, 650]],\n",
              "\n",
              "       [[ 60, 360, 660],\n",
              "        [ 70, 370, 670],\n",
              "        [ 80, 380, 680],\n",
              "        [ 90, 390, 690],\n",
              "        [100, 400, 700],\n",
              "        [110, 410, 710]],\n",
              "\n",
              "       [[120, 420, 720],\n",
              "        [130, 430, 730],\n",
              "        [140, 440, 740],\n",
              "        [150, 450, 750],\n",
              "        [160, 460, 760],\n",
              "        [170, 470, 770]],\n",
              "\n",
              "       [[180, 480, 780],\n",
              "        [190, 490, 790],\n",
              "        [200, 500, 800],\n",
              "        [210, 510, 810],\n",
              "        [220, 520, 820],\n",
              "        [230, 530, 830]],\n",
              "\n",
              "       [[240, 540, 840],\n",
              "        [250, 550, 850],\n",
              "        [260, 560, 860],\n",
              "        [270, 570, 870],\n",
              "        [280, 580, 880],\n",
              "        [290, 590, 890]]])"
            ]
          },
          "metadata": {},
          "execution_count": 84
        }
      ]
    },
    {
      "cell_type": "code",
      "source": [
        "t3=2*np.ones((2,2))\n",
        "t4=3*np.eye(2)\n",
        "t3**t4"
      ],
      "metadata": {
        "colab": {
          "base_uri": "https://localhost:8080/"
        },
        "id": "Hms-dhP1qmBa",
        "outputId": "ffa76956-58c0-4e66-c574-374c3ed6f677"
      },
      "execution_count": 36,
      "outputs": [
        {
          "output_type": "execute_result",
          "data": {
            "text/plain": [
              "array([[8., 1.],\n",
              "       [1., 8.]])"
            ]
          },
          "metadata": {},
          "execution_count": 36
        }
      ]
    },
    {
      "cell_type": "code",
      "source": [
        "A=np.arange(1,17).reshape(2,8)\n",
        "A"
      ],
      "metadata": {
        "colab": {
          "base_uri": "https://localhost:8080/"
        },
        "id": "9wWzcJGqrANJ",
        "outputId": "04adf65f-99b9-4b85-a77d-9e2520bbc731"
      },
      "execution_count": 39,
      "outputs": [
        {
          "output_type": "execute_result",
          "data": {
            "text/plain": [
              "array([[ 1,  2,  3,  4,  5,  6,  7,  8],\n",
              "       [ 9, 10, 11, 12, 13, 14, 15, 16]])"
            ]
          },
          "metadata": {},
          "execution_count": 39
        }
      ]
    },
    {
      "cell_type": "code",
      "source": [
        "A.T"
      ],
      "metadata": {
        "colab": {
          "base_uri": "https://localhost:8080/"
        },
        "id": "yHOX1K1PrG-J",
        "outputId": "203d5d34-358d-4734-c257-527fb611b07e"
      },
      "execution_count": 40,
      "outputs": [
        {
          "output_type": "execute_result",
          "data": {
            "text/plain": [
              "array([[ 1,  9],\n",
              "       [ 2, 10],\n",
              "       [ 3, 11],\n",
              "       [ 4, 12],\n",
              "       [ 5, 13],\n",
              "       [ 6, 14],\n",
              "       [ 7, 15],\n",
              "       [ 8, 16]])"
            ]
          },
          "metadata": {},
          "execution_count": 40
        }
      ]
    },
    {
      "cell_type": "code",
      "source": [
        "B=np.arange(1,17)\n",
        "B"
      ],
      "metadata": {
        "colab": {
          "base_uri": "https://localhost:8080/"
        },
        "id": "xAshZU-crIad",
        "outputId": "18e4095e-e8d5-4a77-d32a-7b80481a0ffc"
      },
      "execution_count": 42,
      "outputs": [
        {
          "output_type": "execute_result",
          "data": {
            "text/plain": [
              "array([ 1,  2,  3,  4,  5,  6,  7,  8,  9, 10, 11, 12, 13, 14, 15, 16])"
            ]
          },
          "metadata": {},
          "execution_count": 42
        }
      ]
    },
    {
      "cell_type": "code",
      "source": [
        "B.T"
      ],
      "metadata": {
        "colab": {
          "base_uri": "https://localhost:8080/"
        },
        "id": "nzLYNbo0rTFN",
        "outputId": "a96b9ebe-aa49-4902-d7d7-58aebdc4f120"
      },
      "execution_count": 45,
      "outputs": [
        {
          "output_type": "execute_result",
          "data": {
            "text/plain": [
              "array([ 1,  2,  3,  4,  5,  6,  7,  8,  9, 10, 11, 12, 13, 14, 15, 16])"
            ]
          },
          "metadata": {},
          "execution_count": 45
        }
      ]
    },
    {
      "cell_type": "markdown",
      "source": [
        "#Agregacja\n"
      ],
      "metadata": {
        "id": "rkZXAnifrjUy"
      }
    },
    {
      "cell_type": "code",
      "source": [
        "np.mean(A,axis=1)"
      ],
      "metadata": {
        "colab": {
          "base_uri": "https://localhost:8080/"
        },
        "id": "PqUWR_gire1q",
        "outputId": "6fa3f16b-ac14-4751-96df-39ec6c48b7df"
      },
      "execution_count": 49,
      "outputs": [
        {
          "output_type": "execute_result",
          "data": {
            "text/plain": [
              "array([ 4.5, 12.5])"
            ]
          },
          "metadata": {},
          "execution_count": 49
        }
      ]
    },
    {
      "cell_type": "code",
      "source": [
        "L=np.random.random(100)"
      ],
      "metadata": {
        "id": "66_lnbChrgQj"
      },
      "execution_count": 50,
      "outputs": []
    },
    {
      "cell_type": "code",
      "source": [
        "L"
      ],
      "metadata": {
        "colab": {
          "base_uri": "https://localhost:8080/"
        },
        "id": "1VyB5_bqrgOS",
        "outputId": "4041a295-6654-4746-cf1a-a885ac71b7d1"
      },
      "execution_count": 51,
      "outputs": [
        {
          "output_type": "execute_result",
          "data": {
            "text/plain": [
              "array([0.4755674 , 0.27262016, 0.82806737, 0.66376639, 0.91090528,\n",
              "       0.90336965, 0.25553439, 0.38558228, 0.66411145, 0.35517946,\n",
              "       0.20890979, 0.29016188, 0.23572831, 0.3371507 , 0.71864087,\n",
              "       0.8493834 , 0.25968135, 0.26064554, 0.98053995, 0.2367993 ,\n",
              "       0.56023643, 0.03469991, 0.85875675, 0.75645356, 0.21682663,\n",
              "       0.53690077, 0.92745174, 0.35467218, 0.0755722 , 0.94038748,\n",
              "       0.42649248, 0.51626511, 0.96045342, 0.36039297, 0.19278808,\n",
              "       0.56210278, 0.01904459, 0.86869325, 0.68380286, 0.50882961,\n",
              "       0.4660845 , 0.19803825, 0.15522976, 0.60083648, 0.25109194,\n",
              "       0.30684227, 0.38658266, 0.4644579 , 0.91606473, 0.40357691,\n",
              "       0.54292841, 0.62038769, 0.95454872, 0.08264246, 0.69415341,\n",
              "       0.28179712, 0.80711396, 0.5962182 , 0.54459184, 0.67206568,\n",
              "       0.45878796, 0.19059789, 0.29752739, 0.61022154, 0.67752552,\n",
              "       0.98848764, 0.29285226, 0.10774335, 0.2553735 , 0.24572464,\n",
              "       0.11159069, 0.57198697, 0.81307418, 0.70643843, 0.25638112,\n",
              "       0.67663026, 0.39035604, 0.12845954, 0.103665  , 0.06360128,\n",
              "       0.9149455 , 0.40761383, 0.69460804, 0.8007718 , 0.633231  ,\n",
              "       0.01791381, 0.06004918, 0.75997596, 0.25748367, 0.81268138,\n",
              "       0.53520758, 0.61155669, 0.05626677, 0.18063196, 0.68208226,\n",
              "       0.40951402, 0.508337  , 0.92849987, 0.16152543, 0.50878176])"
            ]
          },
          "metadata": {},
          "execution_count": 51
        }
      ]
    },
    {
      "cell_type": "code",
      "source": [
        "np.sum(L)"
      ],
      "metadata": {
        "colab": {
          "base_uri": "https://localhost:8080/"
        },
        "id": "D6rtNsa2rgLy",
        "outputId": "8dc66600-f23f-498a-e8a5-c02b6c3d8b3b"
      },
      "execution_count": 52,
      "outputs": [
        {
          "output_type": "execute_result",
          "data": {
            "text/plain": [
              "48.28712333722851"
            ]
          },
          "metadata": {},
          "execution_count": 52
        }
      ]
    },
    {
      "cell_type": "code",
      "source": [
        "np.var(L)"
      ],
      "metadata": {
        "colab": {
          "base_uri": "https://localhost:8080/"
        },
        "id": "XUFDVWWLrgJa",
        "outputId": "e4043d9e-b9cd-47de-c7aa-3c342975efd1"
      },
      "execution_count": 55,
      "outputs": [
        {
          "output_type": "execute_result",
          "data": {
            "text/plain": [
              "0.07621308234224482"
            ]
          },
          "metadata": {},
          "execution_count": 55
        }
      ]
    },
    {
      "cell_type": "code",
      "source": [
        "np.cumsum(A, axis=1)    #axis do dodatkowy argument, który mówi nam po której osi mamy dodawać"
      ],
      "metadata": {
        "colab": {
          "base_uri": "https://localhost:8080/"
        },
        "id": "xFz3Mw9IrgGq",
        "outputId": "d9279387-b0c1-4da6-af3b-4f443bf04ac6"
      },
      "execution_count": 57,
      "outputs": [
        {
          "output_type": "execute_result",
          "data": {
            "text/plain": [
              "array([[  1,   3,   6,  10,  15,  21,  28,  36],\n",
              "       [  9,  19,  30,  42,  55,  69,  84, 100]])"
            ]
          },
          "metadata": {},
          "execution_count": 57
        }
      ]
    },
    {
      "cell_type": "code",
      "source": [
        "A>5"
      ],
      "metadata": {
        "colab": {
          "base_uri": "https://localhost:8080/"
        },
        "id": "02Ike1PgrgEK",
        "outputId": "8ff2aa15-0288-4199-a953-975e41d52d34"
      },
      "execution_count": 58,
      "outputs": [
        {
          "output_type": "execute_result",
          "data": {
            "text/plain": [
              "array([[False, False, False, False, False,  True,  True,  True],\n",
              "       [ True,  True,  True,  True,  True,  True,  True,  True]])"
            ]
          },
          "metadata": {},
          "execution_count": 58
        }
      ]
    },
    {
      "cell_type": "code",
      "source": [
        "A[A>5]"
      ],
      "metadata": {
        "colab": {
          "base_uri": "https://localhost:8080/"
        },
        "id": "z87IScCtrgBb",
        "outputId": "43b445b2-5a21-4cb0-daac-c1fcc2a1cd07"
      },
      "execution_count": 59,
      "outputs": [
        {
          "output_type": "execute_result",
          "data": {
            "text/plain": [
              "array([ 6,  7,  8,  9, 10, 11, 12, 13, 14, 15, 16])"
            ]
          },
          "metadata": {},
          "execution_count": 59
        }
      ]
    },
    {
      "cell_type": "code",
      "source": [
        "A*(A>5)"
      ],
      "metadata": {
        "colab": {
          "base_uri": "https://localhost:8080/"
        },
        "id": "KIPurG-5rf-6",
        "outputId": "39892827-77bb-4e77-ccaf-4617a7ca5fac"
      },
      "execution_count": 60,
      "outputs": [
        {
          "output_type": "execute_result",
          "data": {
            "text/plain": [
              "array([[ 0,  0,  0,  0,  0,  6,  7,  8],\n",
              "       [ 9, 10, 11, 12, 13, 14, 15, 16]])"
            ]
          },
          "metadata": {},
          "execution_count": 60
        }
      ]
    },
    {
      "cell_type": "code",
      "source": [
        "if np.all(A>5):\n",
        "  print(10)"
      ],
      "metadata": {
        "id": "oPXvXdRruYYV"
      },
      "execution_count": 64,
      "outputs": []
    },
    {
      "cell_type": "code",
      "source": [
        "L=np.arange(1,17).reshape(4,4)\n",
        "L"
      ],
      "metadata": {
        "colab": {
          "base_uri": "https://localhost:8080/"
        },
        "id": "bqgrJGlqu4s0",
        "outputId": "3299aea8-c115-4366-bbce-d956fd9e8aca"
      },
      "execution_count": 69,
      "outputs": [
        {
          "output_type": "execute_result",
          "data": {
            "text/plain": [
              "array([[ 1,  2,  3,  4],\n",
              "       [ 5,  6,  7,  8],\n",
              "       [ 9, 10, 11, 12],\n",
              "       [13, 14, 15, 16]])"
            ]
          },
          "metadata": {},
          "execution_count": 69
        }
      ]
    },
    {
      "cell_type": "code",
      "source": [
        "x=np.array([1,2,3,4])\n",
        "x"
      ],
      "metadata": {
        "colab": {
          "base_uri": "https://localhost:8080/"
        },
        "id": "BQ0DoDzUu4qM",
        "outputId": "7222bc58-db92-44d4-ebde-5e4306649105"
      },
      "execution_count": 68,
      "outputs": [
        {
          "output_type": "execute_result",
          "data": {
            "text/plain": [
              "array([1, 2, 3, 4])"
            ]
          },
          "metadata": {},
          "execution_count": 68
        }
      ]
    },
    {
      "cell_type": "code",
      "source": [
        "y=np.array([0,4,1,16])\n",
        "y"
      ],
      "metadata": {
        "colab": {
          "base_uri": "https://localhost:8080/"
        },
        "id": "Oa5yR7x4u4nk",
        "outputId": "c31f138a-0df3-4212-a316-325c19fd79f7"
      },
      "execution_count": 70,
      "outputs": [
        {
          "output_type": "execute_result",
          "data": {
            "text/plain": [
              "array([ 0,  4,  1, 16])"
            ]
          },
          "metadata": {},
          "execution_count": 70
        }
      ]
    },
    {
      "cell_type": "code",
      "source": [
        "L[x<y]"
      ],
      "metadata": {
        "colab": {
          "base_uri": "https://localhost:8080/"
        },
        "id": "ig0NhXBHu4lG",
        "outputId": "02e1ba48-995c-4d75-a8e1-f8fd34a32137"
      },
      "execution_count": 71,
      "outputs": [
        {
          "output_type": "execute_result",
          "data": {
            "text/plain": [
              "array([[ 5,  6,  7,  8],\n",
              "       [13, 14, 15, 16]])"
            ]
          },
          "metadata": {},
          "execution_count": 71
        }
      ]
    },
    {
      "cell_type": "code",
      "source": [
        "x<y"
      ],
      "metadata": {
        "colab": {
          "base_uri": "https://localhost:8080/"
        },
        "id": "oOEbC8Iau4ic",
        "outputId": "4d8e5131-b772-4e52-925c-e39d5a98da42"
      },
      "execution_count": 72,
      "outputs": [
        {
          "output_type": "execute_result",
          "data": {
            "text/plain": [
              "array([False,  True, False,  True])"
            ]
          },
          "metadata": {},
          "execution_count": 72
        }
      ]
    },
    {
      "cell_type": "code",
      "source": [
        "A=np.array([[2,3],[0,2]])\n",
        "B=np.array([[2,5],[3,8]])\n",
        "A,B"
      ],
      "metadata": {
        "colab": {
          "base_uri": "https://localhost:8080/"
        },
        "id": "ccIXVck1u4gH",
        "outputId": "978a2ff7-d60b-409a-8026-45f57a51d6f7"
      },
      "execution_count": 74,
      "outputs": [
        {
          "output_type": "execute_result",
          "data": {
            "text/plain": [
              "(array([[2, 3],\n",
              "        [0, 2]]), array([[2, 5],\n",
              "        [3, 8]]))"
            ]
          },
          "metadata": {},
          "execution_count": 74
        }
      ]
    },
    {
      "cell_type": "code",
      "source": [
        "C=np.dot(np.dot(B,A),np.linalg.inv(B))\n",
        "C"
      ],
      "metadata": {
        "colab": {
          "base_uri": "https://localhost:8080/"
        },
        "id": "UkMOsDsPu4dU",
        "outputId": "40124a95-6e35-4899-a03b-eaabd8fa1dc8"
      },
      "execution_count": 78,
      "outputs": [
        {
          "output_type": "execute_result",
          "data": {
            "text/plain": [
              "array([[-16.,  12.],\n",
              "       [-27.,  20.]])"
            ]
          },
          "metadata": {},
          "execution_count": 78
        }
      ]
    },
    {
      "cell_type": "code",
      "source": [
        "np.linalg.eig(A)"
      ],
      "metadata": {
        "colab": {
          "base_uri": "https://localhost:8080/"
        },
        "id": "L_j80WpYu4al",
        "outputId": "ca1f6f0e-2c8b-445a-c371-cb3d719dbce6"
      },
      "execution_count": 85,
      "outputs": [
        {
          "output_type": "execute_result",
          "data": {
            "text/plain": [
              "(array([2., 2.]), array([[ 1.00000000e+00, -1.00000000e+00],\n",
              "        [ 0.00000000e+00,  1.48029737e-16]]))"
            ]
          },
          "metadata": {},
          "execution_count": 85
        }
      ]
    },
    {
      "cell_type": "code",
      "source": [
        "np.linalg.eig(A)[0]"
      ],
      "metadata": {
        "colab": {
          "base_uri": "https://localhost:8080/"
        },
        "id": "2PzbJPGLu4V0",
        "outputId": "286087d7-58d9-4ef9-a0ca-4856067219a2"
      },
      "execution_count": 86,
      "outputs": [
        {
          "output_type": "execute_result",
          "data": {
            "text/plain": [
              "array([2., 2.])"
            ]
          },
          "metadata": {},
          "execution_count": 86
        }
      ]
    },
    {
      "cell_type": "code",
      "source": [
        "np.linalg.eig(A)[1][:,0]"
      ],
      "metadata": {
        "colab": {
          "base_uri": "https://localhost:8080/"
        },
        "id": "VlMuqLEozRMb",
        "outputId": "d549a91b-0ca8-4969-e082-ed18b05543d7"
      },
      "execution_count": 92,
      "outputs": [
        {
          "output_type": "execute_result",
          "data": {
            "text/plain": [
              "array([1., 0.])"
            ]
          },
          "metadata": {},
          "execution_count": 92
        }
      ]
    },
    {
      "cell_type": "code",
      "source": [
        "np.linalg.eig(C)[0]"
      ],
      "metadata": {
        "colab": {
          "base_uri": "https://localhost:8080/"
        },
        "id": "7yyD17JHzpPW",
        "outputId": "8462502f-867c-4647-cbfc-6168f27bc9b3"
      },
      "execution_count": 94,
      "outputs": [
        {
          "output_type": "execute_result",
          "data": {
            "text/plain": [
              "array([2.+3.41915903e-07j, 2.-3.41915903e-07j])"
            ]
          },
          "metadata": {},
          "execution_count": 94
        }
      ]
    }
  ]
}