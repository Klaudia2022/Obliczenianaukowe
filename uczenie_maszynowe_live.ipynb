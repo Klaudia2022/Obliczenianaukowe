{
  "nbformat": 4,
  "nbformat_minor": 0,
  "metadata": {
    "colab": {
      "name": "uczenie maszynowe - live.ipynb",
      "provenance": [],
      "collapsed_sections": [],
      "include_colab_link": true
    },
    "kernelspec": {
      "name": "python3",
      "display_name": "Python 3"
    },
    "language_info": {
      "name": "python"
    }
  },
  "cells": [
    {
      "cell_type": "markdown",
      "metadata": {
        "id": "view-in-github",
        "colab_type": "text"
      },
      "source": [
        "<a href=\"https://colab.research.google.com/github/Klaudia2022/Obliczenianaukowe/blob/main/uczenie_maszynowe_live.ipynb\" target=\"_parent\"><img src=\"https://colab.research.google.com/assets/colab-badge.svg\" alt=\"Open In Colab\"/></a>"
      ]
    },
    {
      "cell_type": "code",
      "execution_count": null,
      "metadata": {
        "id": "6vG4BngAs1sl"
      },
      "outputs": [],
      "source": [
        ""
      ]
    },
    {
      "cell_type": "markdown",
      "source": [
        "# Regresja liniowa"
      ],
      "metadata": {
        "id": "njngLIhzwokv"
      }
    },
    {
      "cell_type": "code",
      "source": [
        "from sklearn import datasets #zbiory danych\n",
        "from sklearn import model_selection #podział danych na uczące i testowe\n",
        "from sklearn import linear_model\n",
        "from sklearn import metrics #miary do oceny pracy modelu\n",
        "\n",
        "import matplotlib.pyplot as plt\n",
        "import numpy as np\n",
        "import pandas as pd\n"
      ],
      "metadata": {
        "id": "D4B7exeywqBX"
      },
      "execution_count": 1,
      "outputs": []
    },
    {
      "cell_type": "code",
      "source": [
        "X_all, y_all=datasets.make_regression(n_samples=50, n_features=50, n_informative=10)"
      ],
      "metadata": {
        "id": "cPCtHqGYxX-0"
      },
      "execution_count": null,
      "outputs": []
    },
    {
      "cell_type": "code",
      "source": [
        "X_all.shape"
      ],
      "metadata": {
        "colab": {
          "base_uri": "https://localhost:8080/"
        },
        "id": "eYrH15ccx4E8",
        "outputId": "4adaed97-e8d6-4f33-b808-e572e39c9896"
      },
      "execution_count": null,
      "outputs": [
        {
          "output_type": "execute_result",
          "data": {
            "text/plain": [
              "(50, 50)"
            ]
          },
          "metadata": {},
          "execution_count": 4
        }
      ]
    },
    {
      "cell_type": "code",
      "source": [
        "y_all.shape"
      ],
      "metadata": {
        "colab": {
          "base_uri": "https://localhost:8080/"
        },
        "id": "exAo3YL1x5yb",
        "outputId": "c93f07ec-d37c-4af6-eff5-67c2630b5589"
      },
      "execution_count": null,
      "outputs": [
        {
          "output_type": "execute_result",
          "data": {
            "text/plain": [
              "(50,)"
            ]
          },
          "metadata": {},
          "execution_count": 6
        }
      ]
    },
    {
      "cell_type": "code",
      "source": [
        "X_train,X_test,y_train,y_test=model_selection.train_test_split(X_all,y_all,test_size=25)"
      ],
      "metadata": {
        "id": "8wOnf6vBx_9L"
      },
      "execution_count": null,
      "outputs": []
    },
    {
      "cell_type": "code",
      "source": [
        "X_train.shape"
      ],
      "metadata": {
        "colab": {
          "base_uri": "https://localhost:8080/"
        },
        "id": "pfr6XjwXzNie",
        "outputId": "646ee9de-45bd-4ca8-933f-5e691d12eb51"
      },
      "execution_count": null,
      "outputs": [
        {
          "output_type": "execute_result",
          "data": {
            "text/plain": [
              "(25, 50)"
            ]
          },
          "metadata": {},
          "execution_count": 8
        }
      ]
    },
    {
      "cell_type": "code",
      "source": [
        "model=linear_model.LinearRegression()"
      ],
      "metadata": {
        "id": "ywE_y81vzSlQ"
      },
      "execution_count": null,
      "outputs": []
    },
    {
      "cell_type": "code",
      "source": [
        "model.fit(X_train,y_train)"
      ],
      "metadata": {
        "colab": {
          "base_uri": "https://localhost:8080/"
        },
        "id": "PS4LWN7PzjjM",
        "outputId": "5ce39ed3-9376-47e3-c0dc-564d228091de"
      },
      "execution_count": null,
      "outputs": [
        {
          "output_type": "execute_result",
          "data": {
            "text/plain": [
              "LinearRegression()"
            ]
          },
          "metadata": {},
          "execution_count": 10
        }
      ]
    },
    {
      "cell_type": "code",
      "source": [
        "y_predict=model.predict(X_test)"
      ],
      "metadata": {
        "id": "iU-1mdMxz8bW"
      },
      "execution_count": null,
      "outputs": []
    },
    {
      "cell_type": "code",
      "source": [
        "(y_test-y_predict).std()"
      ],
      "metadata": {
        "colab": {
          "base_uri": "https://localhost:8080/"
        },
        "id": "YLjX43800SEh",
        "outputId": "1df6c191-8953-4ce2-9115-07f09305430a"
      },
      "execution_count": null,
      "outputs": [
        {
          "output_type": "execute_result",
          "data": {
            "text/plain": [
              "130.54331002341704"
            ]
          },
          "metadata": {},
          "execution_count": 15
        }
      ]
    },
    {
      "cell_type": "code",
      "source": [
        "np.sqrt(metrics.mean_squared_error(y_test,y_predict))"
      ],
      "metadata": {
        "colab": {
          "base_uri": "https://localhost:8080/"
        },
        "id": "4avzem1L0w6K",
        "outputId": "209d579e-39dd-4d92-e5c4-4d5a10547404"
      },
      "execution_count": null,
      "outputs": [
        {
          "output_type": "execute_result",
          "data": {
            "text/plain": [
              "131.61651364274687"
            ]
          },
          "metadata": {},
          "execution_count": 16
        }
      ]
    },
    {
      "cell_type": "code",
      "source": [
        "np.sqrt(metrics.mean_squared_error(y_train,model.predict(X_train)))"
      ],
      "metadata": {
        "colab": {
          "base_uri": "https://localhost:8080/"
        },
        "id": "RvgTaKBr1Dqk",
        "outputId": "d03b2e4d-d8e5-4801-d0da-03c2631cf858"
      },
      "execution_count": null,
      "outputs": [
        {
          "output_type": "execute_result",
          "data": {
            "text/plain": [
              "1.8945693044601205e-13"
            ]
          },
          "metadata": {},
          "execution_count": 17
        }
      ]
    },
    {
      "cell_type": "code",
      "source": [
        "def rysuj_reszty_i_współczynniki(resid_train, resid_test, coeff):\n",
        "    fig, axes = plt.subplots(1, 3, figsize=(12, 3))\n",
        "    axes[0].bar(np.arange(len(resid_train)), resid_train)\n",
        "    axes[0].set_xlabel(\"Numer próbki\")\n",
        "    axes[0].set_ylabel(\"Reszta\")\n",
        "    axes[0].set_title(\"Zbiór uczący\")\n",
        "    axes[1].bar(np.arange(len(resid_test)), resid_test)\n",
        "    axes[1].set_xlabel(\"Numer próbki\")\n",
        "    axes[1].set_ylabel(\"Reszta\")\n",
        "    axes[1].set_title(\"Zbiór testowy\")\n",
        "    axes[2].bar(np.arange(len(coeff)), coeff)\n",
        "    axes[2].set_xlabel(\"Numer współczynnika\")\n",
        "    axes[2].set_ylabel(\"Wartość współczynnika\")\n",
        "    fig.tight_layout()\n",
        "    return fig, axes"
      ],
      "metadata": {
        "id": "gqB1PpdV19jw"
      },
      "execution_count": null,
      "outputs": []
    },
    {
      "cell_type": "code",
      "source": [
        "rysuj_reszty_i_współczynniki(y_train-model.predict(X_train),y_test-model.predict(X_train),model.coef_)"
      ],
      "metadata": {
        "colab": {
          "base_uri": "https://localhost:8080/",
          "height": 312
        },
        "id": "yOZ_OP6t2ae3",
        "outputId": "b7b2332d-dbf9-4efc-e541-b713d3c81f46"
      },
      "execution_count": null,
      "outputs": [
        {
          "output_type": "execute_result",
          "data": {
            "text/plain": [
              "(<Figure size 864x216 with 3 Axes>,\n",
              " array([<matplotlib.axes._subplots.AxesSubplot object at 0x7f3d22ba9bd0>,\n",
              "        <matplotlib.axes._subplots.AxesSubplot object at 0x7f3d22ab4650>,\n",
              "        <matplotlib.axes._subplots.AxesSubplot object at 0x7f3d22a6eb50>],\n",
              "       dtype=object))"
            ]
          },
          "metadata": {},
          "execution_count": 19
        },
        {
          "output_type": "display_data",
          "data": {
            "text/plain": [
              "<Figure size 864x216 with 3 Axes>"
            ],
            "image/png": "[encoded data removed]"
          },
          "metadata": {
            "needs_background": "light"
          }
        }
      ]
    },
    {
      "cell_type": "markdown",
      "source": [
        "## Sposoby poprawienia modelu regresji\n",
        "Model domyślnie dopasowuje się metodą najmniejszych kwadratów, czyli minimalizuje funkcję sse. Możemy zmienić tę 'taktykę' dodając 'karę' za jakość dobranych współczynników:\n",
        "* metoda LASSO, ```linear_model.Lasso``` (preferuje jak najmniej niezerowych współczynników)\n",
        "* regresja grzebietowa, ```linear_model.Ridge``` (preferuje jak najmniejsze współczynniki)"
      ],
      "metadata": {
        "id": "MWzA-CLK3fSS"
      }
    },
    {
      "cell_type": "markdown",
      "source": [
        "## Zadanie\n",
        "* dokonaj podziału danych na uczące i testowe\n",
        "* przeprowadź analizę regresji metodą Lasso lub regresją grzbietową z ustalonym współczynnikiem $\\alpha$ \n",
        "* sprawdź błąd kwadratowy na danych uczących i na danych testowych\n",
        "* oceń dopasowanie modelu metodą score\n",
        "* sporządź rysunki za pomocą zdefiniowanej wyżej funkcji ```rysuj_reszty_i_współczynniki```"
      ],
      "metadata": {
        "id": "f9m5swR23uQu"
      }
    },
    {
      "cell_type": "code",
      "source": [
        "model2=linear_model.Ridge()\n",
        "model2.fit(X_train,y_train)\n",
        "y_predict=model2.predict(X_test)"
      ],
      "metadata": {
        "id": "amULehmp2nZ5"
      },
      "execution_count": null,
      "outputs": []
    },
    {
      "cell_type": "code",
      "source": [
        "np.sqrt(metrics.mean_squared_error(y_predict,y_test))"
      ],
      "metadata": {
        "colab": {
          "base_uri": "https://localhost:8080/"
        },
        "id": "BtetESc35UKS",
        "outputId": "69907fe2-0138-4de1-b0b6-445da358b9d0"
      },
      "execution_count": null,
      "outputs": [
        {
          "output_type": "execute_result",
          "data": {
            "text/plain": [
              "130.9698284389528"
            ]
          },
          "metadata": {},
          "execution_count": 31
        }
      ]
    },
    {
      "cell_type": "code",
      "source": [
        "model2.score(X_train,y_train)"
      ],
      "metadata": {
        "colab": {
          "base_uri": "https://localhost:8080/"
        },
        "id": "MSQ2p-F85dj7",
        "outputId": "23a8ca05-8802-46b9-b313-81e1689d79fa"
      },
      "execution_count": null,
      "outputs": [
        {
          "output_type": "execute_result",
          "data": {
            "text/plain": [
              "0.9996949589334693"
            ]
          },
          "metadata": {},
          "execution_count": 32
        }
      ]
    },
    {
      "cell_type": "code",
      "source": [
        "model2.score(X_test,y_test)"
      ],
      "metadata": {
        "colab": {
          "base_uri": "https://localhost:8080/"
        },
        "id": "phuE8ZCL57jQ",
        "outputId": "0f3d643e-ad1c-4205-d883-bc94513db3ad"
      },
      "execution_count": null,
      "outputs": [
        {
          "output_type": "execute_result",
          "data": {
            "text/plain": [
              "0.39698587713340217"
            ]
          },
          "metadata": {},
          "execution_count": 25
        }
      ]
    },
    {
      "cell_type": "code",
      "source": [
        "rysuj_reszty_i_współczynniki(y_train-model2.predict(X_train),y_test-model2.predict(X_train),model2.coef_)"
      ],
      "metadata": {
        "colab": {
          "base_uri": "https://localhost:8080/",
          "height": 312
        },
        "id": "jpUhZasZ6Axw",
        "outputId": "300511e9-f3f7-44ee-e0e0-6c2bf6bc1dc8"
      },
      "execution_count": null,
      "outputs": [
        {
          "output_type": "execute_result",
          "data": {
            "text/plain": [
              "(<Figure size 864x216 with 3 Axes>,\n",
              " array([<matplotlib.axes._subplots.AxesSubplot object at 0x7f3d1f980410>,\n",
              "        <matplotlib.axes._subplots.AxesSubplot object at 0x7f3d1f93b910>,\n",
              "        <matplotlib.axes._subplots.AxesSubplot object at 0x7f3d1f8eced0>],\n",
              "       dtype=object))"
            ]
          },
          "metadata": {},
          "execution_count": 33
        },
        {
          "output_type": "display_data",
          "data": {
            "text/plain": [
              "<Figure size 864x216 with 3 Axes>"
            ],
            "image/png": "[encoded data removed]"
          },
          "metadata": {
            "needs_background": "light"
          }
        }
      ]
    },
    {
      "cell_type": "markdown",
      "source": [
        ""
      ],
      "metadata": {
        "id": "Z-2Nj6Ah6kC2"
      }
    },
    {
      "cell_type": "markdown",
      "source": [
        "# Klasyfikacja\n",
        "Dokonamy klasyfikacji (przypisania do grup) danych na podstawie zbioru danych cech irysów. Korzystamy z modelu ```linear_model.LogisticRegression```. Można też wykorzystać w tym celu:\n",
        "* drzewa decyzyjne ```tree.DecisionTreeClassifier```\n",
        "* metodę najbliższego sąsiada ```neighbors.KNeighborsClassifier```"
      ],
      "metadata": {
        "id": "btFXHpXO7Tyy"
      }
    },
    {
      "cell_type": "code",
      "source": [
        "irysy=datasets.load_iris()"
      ],
      "metadata": {
        "id": "LlNB8-Tj6Jie"
      },
      "execution_count": null,
      "outputs": []
    },
    {
      "cell_type": "code",
      "source": [
        "type(irysy)"
      ],
      "metadata": {
        "colab": {
          "base_uri": "https://localhost:8080/"
        },
        "id": "tT-E0hRb7yJk",
        "outputId": "5efdb953-ff3f-4e03-a014-a2dc1a447efb"
      },
      "execution_count": null,
      "outputs": [
        {
          "output_type": "execute_result",
          "data": {
            "text/plain": [
              "sklearn.utils.Bunch"
            ]
          },
          "metadata": {},
          "execution_count": 35
        }
      ]
    },
    {
      "cell_type": "code",
      "source": [
        "\n",
        "X_all=irysy.data\n",
        "y_all=irysy.target"
      ],
      "metadata": {
        "id": "LuIxS1Vl77fI"
      },
      "execution_count": null,
      "outputs": []
    },
    {
      "cell_type": "code",
      "source": [
        "X_train,X_test,y_train,y_test=model_selection.train_test_split(X_all,y_all)"
      ],
      "metadata": {
        "id": "uVBKJJ2O8A_9"
      },
      "execution_count": null,
      "outputs": []
    },
    {
      "cell_type": "code",
      "source": [
        "model=linear_model.LogisticRegression()"
      ],
      "metadata": {
        "id": "5MzlizQ386Yc"
      },
      "execution_count": null,
      "outputs": []
    },
    {
      "cell_type": "code",
      "source": [
        "model.fit(X_train,y_train)"
      ],
      "metadata": {
        "colab": {
          "base_uri": "https://localhost:8080/"
        },
        "id": "kQGWapoX879a",
        "outputId": "4a8bf317-1cab-4e18-f4c3-1645e99a17d8"
      },
      "execution_count": null,
      "outputs": [
        {
          "output_type": "execute_result",
          "data": {
            "text/plain": [
              "LogisticRegression()"
            ]
          },
          "metadata": {},
          "execution_count": 46
        }
      ]
    },
    {
      "cell_type": "code",
      "source": [
        "y_predict=model.predict(X_test)"
      ],
      "metadata": {
        "id": "_i6KyrCG9bLq"
      },
      "execution_count": null,
      "outputs": []
    },
    {
      "cell_type": "code",
      "source": [
        "y_predict-y_test"
      ],
      "metadata": {
        "colab": {
          "base_uri": "https://localhost:8080/"
        },
        "id": "vINXeRmb9tjB",
        "outputId": "4e7168cc-9105-45e7-f8df-9795258a4b5f"
      },
      "execution_count": null,
      "outputs": [
        {
          "output_type": "execute_result",
          "data": {
            "text/plain": [
              "array([ 0,  0, -1,  0,  0,  0,  0,  0,  0,  0,  0,  0,  0,  0,  0,  0,  0,\n",
              "        0,  0,  1,  0,  0,  0,  0,  0,  0,  0,  0,  0,  0,  0,  0,  0,  0,\n",
              "        0,  0,  0,  0])"
            ]
          },
          "metadata": {},
          "execution_count": 48
        }
      ]
    },
    {
      "cell_type": "code",
      "source": [
        "print(metrics.classification_report(y_test,y_predict))"
      ],
      "metadata": {
        "colab": {
          "base_uri": "https://localhost:8080/"
        },
        "id": "SQD1KB3w90EF",
        "outputId": "5b71f6bf-99c9-4f66-aa94-3fde6d02ce09"
      },
      "execution_count": null,
      "outputs": [
        {
          "output_type": "stream",
          "name": "stdout",
          "text": [
            "              precision    recall  f1-score   support\n",
            "\n",
            "           0       1.00      1.00      1.00        13\n",
            "           1       0.94      0.94      0.94        16\n",
            "           2       0.89      0.89      0.89         9\n",
            "\n",
            "    accuracy                           0.95        38\n",
            "   macro avg       0.94      0.94      0.94        38\n",
            "weighted avg       0.95      0.95      0.95        38\n",
            "\n"
          ]
        }
      ]
    },
    {
      "cell_type": "markdown",
      "source": [
        "## Zadanie \n",
        "Spośród cech irysów wybierz tylko dwie i dokonaj klasyfikacji gatunków za ich pomocą metodą najbliższych trzech sąsiadów (dla wcześniej zdefiniowanego podziału). Narysuj wykres punktowy opisujący te dwie wybrane cechy i z kolorami punktów zależnymi od klasyfikacji (na danych testowych). Obok narysuj ten sam wykres z oryginalną klasyfikacją.\n",
        "\n",
        "neighbors.KNeighborsClassifier"
      ],
      "metadata": {
        "id": "e-eveRpL_a6N"
      }
    },
    {
      "cell_type": "code",
      "source": [
        "irysy.feature_names"
      ],
      "metadata": {
        "colab": {
          "base_uri": "https://localhost:8080/"
        },
        "id": "c9ehOSmG-M98",
        "outputId": "3c468b82-8789-483d-d8a3-1d56c017a5c5"
      },
      "execution_count": null,
      "outputs": [
        {
          "output_type": "execute_result",
          "data": {
            "text/plain": [
              "['sepal length (cm)',\n",
              " 'sepal width (cm)',\n",
              " 'petal length (cm)',\n",
              " 'petal width (cm)']"
            ]
          },
          "metadata": {},
          "execution_count": 51
        }
      ]
    },
    {
      "cell_type": "code",
      "source": [
        "from sklearn import neighbors\n",
        "model=neighbors.KNeighborsClassifier(3)\n",
        "x=0\n",
        "y=2\n",
        "model.fit(X_train[:,[x,y]],y_train)"
      ],
      "metadata": {
        "colab": {
          "base_uri": "https://localhost:8080/"
        },
        "id": "rFVGBhFu_mTA",
        "outputId": "a480f7ce-ebf4-4d52-a3f7-f04f25e51a68"
      },
      "execution_count": null,
      "outputs": [
        {
          "output_type": "execute_result",
          "data": {
            "text/plain": [
              "KNeighborsClassifier(n_neighbors=3)"
            ]
          },
          "metadata": {},
          "execution_count": 57
        }
      ]
    },
    {
      "cell_type": "code",
      "source": [
        "y_predict=model.predict(X_test[:,[x,y]])\n",
        "\n",
        "fig,ax=plt.subplots(1,2,figsize=(10,5))\n",
        "for i in range(3):\n",
        "    maska=(y_predict == i)\n",
        "    ax[0].scatter(X_test[:,x][maska],X_test[:,y][maska],label=irysy.target_names[i])\n",
        "    ax[0].set(title='Podział przewidywany', xlabel=irysy.feature_names[x],ylabel=irysy.feature_names[y])\n",
        "ax[0].legend()\n",
        "\n",
        "for i in range(3):\n",
        "    maska=(y_test == i)\n",
        "    ax[1].scatter(X_test[:,x][maska],X_test[:,y][maska],label=irysy.target_names[i])\n",
        "    ax[1].set(title='Podział właściwy (z danych)', xlabel=irysy.feature_names[x],ylabel=irysy.feature_names[y])\n",
        "ax[1].legend()"
      ],
      "metadata": {
        "colab": {
          "base_uri": "https://localhost:8080/",
          "height": 367
        },
        "id": "8FqHtDgKBWD9",
        "outputId": "c957e2ea-8d01-45ac-bb5c-5a09b2201e4f"
      },
      "execution_count": null,
      "outputs": [
        {
          "output_type": "execute_result",
          "data": {
            "text/plain": [
              "<matplotlib.legend.Legend at 0x7f3d1d6dd410>"
            ]
          },
          "metadata": {},
          "execution_count": 58
        },
        {
          "output_type": "display_data",
          "data": {
            "text/plain": [
              "<Figure size 720x360 with 2 Axes>"
            ],
            "image/png": "[encoded data removed]"
          },
          "metadata": {
            "needs_background": "light"
          }
        }
      ]
    },
    {
      "cell_type": "code",
      "source": [
        ""
      ],
      "metadata": {
        "id": "X_3BBHsxBoMa"
      },
      "execution_count": null,
      "outputs": []
    },
    {
      "cell_type": "markdown",
      "source": [
        "## Zadanie domowe\n",
        "* wygeneruj dane do regresji liniowej z 100 próbkami, 40 cechami, w tym 20 istotnymi i wybranym random_state\n",
        "* przeprowadź analizę metodą Lasso dla różnych parametrów $\\alpha$ i spróbuj określić jaki współczynnik jest najlepszy dla przewidywania przyszłych wyników"
      ],
      "metadata": {
        "id": "jdrRK2GPGRrr"
      }
    },
    {
      "cell_type": "code",
      "source": [
        "X_all, y_all=datasets.make_regression(n_samples=100, n_features=40, n_informative=20, random_state=123456)"
      ],
      "metadata": {
        "id": "TCvTKqzbGSKy"
      },
      "execution_count": 23,
      "outputs": []
    },
    {
      "cell_type": "code",
      "source": [
        "X_train,X_test,y_train,y_test=model_selection.train_test_split(X_all,y_all)"
      ],
      "metadata": {
        "id": "ea0My8bgC0Db"
      },
      "execution_count": 24,
      "outputs": []
    },
    {
      "cell_type": "code",
      "source": [
        "X_train.shape"
      ],
      "metadata": {
        "colab": {
          "base_uri": "https://localhost:8080/"
        },
        "id": "Q80o7kUNC_PF",
        "outputId": "e0860153-1a31-434a-ee9a-7d4d1c686f51"
      },
      "execution_count": 25,
      "outputs": [
        {
          "output_type": "execute_result",
          "data": {
            "text/plain": [
              "(75, 40)"
            ]
          },
          "metadata": {},
          "execution_count": 25
        }
      ]
    },
    {
      "cell_type": "code",
      "source": [
        "y_train.shape"
      ],
      "metadata": {
        "colab": {
          "base_uri": "https://localhost:8080/"
        },
        "id": "kTzO94hSDDlJ",
        "outputId": "f23d3c33-450d-4a72-d69b-409a14c12fcc"
      },
      "execution_count": 26,
      "outputs": [
        {
          "output_type": "execute_result",
          "data": {
            "text/plain": [
              "(75,)"
            ]
          },
          "metadata": {},
          "execution_count": 26
        }
      ]
    },
    {
      "cell_type": "code",
      "source": [
        "alfa=[0,0.00025,0.001, 0.005, 0.01, 0.1, 0.5, 0.75, 1,5,10,25,50,100,1000,50000]"
      ],
      "metadata": {
        "id": "PUQkX2c1E9Zn"
      },
      "execution_count": 36,
      "outputs": []
    },
    {
      "cell_type": "code",
      "source": [
        "for el in alfa:\n",
        "  model=linear_model.Lasso(el)\n",
        "  model.fit(X_train, y_train)\n",
        "  y_predict=model.predict(X_test)\n",
        "  print(\"alfa: \", el, \" wynik \", np.sqrt(metrics.mean_squared_error(y_test,y_predict)))"
      ],
      "metadata": {
        "colab": {
          "base_uri": "https://localhost:8080/"
        },
        "id": "Zjmgml5PDHn6",
        "outputId": "80c27f22-2023-4dee-b964-2d67b5c7c637"
      },
      "execution_count": 37,
      "outputs": [
        {
          "output_type": "stream",
          "name": "stdout",
          "text": [
            "alfa:  0  wynik  0.12213945052590214\n",
            "alfa:  0.00025  wynik  0.11366788737169653\n",
            "alfa:  0.001  wynik  0.08966132654361039\n",
            "alfa:  0.005  wynik  0.04690310328367868\n",
            "alfa:  0.01  wynik  0.09282991684596342\n",
            "alfa:  0.1  wynik  0.8120114590035453\n",
            "alfa:  0.5  wynik  3.9943816982194145\n",
            "alfa:  0.75  wynik  5.9741839550842\n",
            "alfa:  1  wynik  7.921029574968046\n",
            "alfa:  5  wynik  38.08924138413311\n",
            "alfa:  10  wynik  72.17434218685251\n",
            "alfa:  25  wynik  154.75398506604057\n",
            "alfa:  50  wynik  206.16816282824686\n",
            "alfa:  100  wynik  243.3672227538104\n",
            "alfa:  1000  wynik  255.4829401716522\n",
            "alfa:  50000  wynik  255.4829401716522\n"
          ]
        },
        {
          "output_type": "stream",
          "name": "stderr",
          "text": [
            "/usr/local/lib/python3.7/dist-packages/ipykernel_launcher.py:3: UserWarning: With alpha=0, this algorithm does not converge well. You are advised to use the LinearRegression estimator\n",
            "  This is separate from the ipykernel package so we can avoid doing imports until\n",
            "/usr/local/lib/python3.7/dist-packages/sklearn/linear_model/_coordinate_descent.py:648: UserWarning: Coordinate descent with no regularization may lead to unexpected results and is discouraged.\n",
            "  coef_, l1_reg, l2_reg, X, y, max_iter, tol, rng, random, positive\n"
          ]
        }
      ]
    },
    {
      "cell_type": "markdown",
      "source": [
        "Najlepsze uczenie programu jest dla alfa z przedziału (0.001, 0.01)"
      ],
      "metadata": {
        "id": "iyB9cwvaH2VW"
      }
    },
    {
      "cell_type": "code",
      "source": [
        ""
      ],
      "metadata": {
        "id": "x8nZKGZNDbu6"
      },
      "execution_count": null,
      "outputs": []
    }
  ]
}