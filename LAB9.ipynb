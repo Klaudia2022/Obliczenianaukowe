{
  "cells": [
    {
      "cell_type": "markdown",
      "id": "seeing-dallas",
      "metadata": {
        "id": "seeing-dallas"
      },
      "source": [
        "## Tworzenie grafów"
      ]
    },
    {
      "cell_type": "code",
      "execution_count": null,
      "id": "noble-screening",
      "metadata": {
        "id": "noble-screening"
      },
      "outputs": [],
      "source": [
        ""
      ]
    },
    {
      "cell_type": "code",
      "execution_count": null,
      "id": "6tcfsVOTeG6k",
      "metadata": {
        "id": "6tcfsVOTeG6k"
      },
      "outputs": [],
      "source": [
        ""
      ]
    },
    {
      "cell_type": "code",
      "execution_count": null,
      "id": "fuVLRij0eG-C",
      "metadata": {
        "id": "fuVLRij0eG-C"
      },
      "outputs": [],
      "source": [
        ""
      ]
    },
    {
      "cell_type": "code",
      "execution_count": null,
      "id": "sF06LpsxeHAd",
      "metadata": {
        "id": "sF06LpsxeHAd"
      },
      "outputs": [],
      "source": [
        ""
      ]
    },
    {
      "cell_type": "code",
      "execution_count": null,
      "id": "WPd7sIImeHCr",
      "metadata": {
        "id": "WPd7sIImeHCr"
      },
      "outputs": [],
      "source": [
        ""
      ]
    },
    {
      "cell_type": "code",
      "execution_count": null,
      "id": "sfIPUs2oeHE6",
      "metadata": {
        "id": "sfIPUs2oeHE6"
      },
      "outputs": [],
      "source": [
        ""
      ]
    },
    {
      "cell_type": "code",
      "execution_count": null,
      "id": "Kqh0qYr5eHKZ",
      "metadata": {
        "id": "Kqh0qYr5eHKZ"
      },
      "outputs": [],
      "source": [
        ""
      ]
    },
    {
      "cell_type": "code",
      "execution_count": null,
      "id": "Ie9uYx9TeHWO",
      "metadata": {
        "id": "Ie9uYx9TeHWO"
      },
      "outputs": [],
      "source": [
        ""
      ]
    },
    {
      "cell_type": "markdown",
      "id": "informational-profit",
      "metadata": {
        "id": "informational-profit",
        "jupyter": {
          "source_hidden": true
        },
        "tags": []
      },
      "source": [
        "### Wierzchołki"
      ]
    },
    {
      "cell_type": "code",
      "execution_count": 146,
      "id": "republican-disclaimer",
      "metadata": {
        "colab": {
          "base_uri": "https://localhost:8080/",
          "height": 319
        },
        "id": "republican-disclaimer",
        "outputId": "7aaa618e-38c1-4ba2-f209-43a80321c27a"
      },
      "outputs": [
        {
          "output_type": "display_data",
          "data": {
            "text/plain": [
              "<Figure size 432x288 with 1 Axes>"
            ],
            "image/png": "[encoded data removed]"
          },
          "metadata": {}
        }
      ],
      "source": [
        "import networkx as nx\n",
        "import random as r\n",
        "import numpy as np\n",
        "import matplotlib.pyplot as plt\n",
        "import scipy as sp\n",
        "G = nx.Graph() #tworzenie obiektu grafu\n",
        "G.add_node('a')\n",
        "G.add_node(1,weight=5)\n",
        "G.add_nodes_from(['test','zabawa','Toruń',2,3])\n",
        "#nx.draw(G) #rysowanie aktualnego stanu grafu G, także nx.draw_networkx(G)\n",
        "nx.draw(G,with_labels=True)"
      ]
    },
    {
      "cell_type": "code",
      "execution_count": 68,
      "id": "underlying-floating",
      "metadata": {
        "colab": {
          "base_uri": "https://localhost:8080/"
        },
        "id": "underlying-floating",
        "outputId": "c62569c6-7d49-4e55-bf91-ec73a44f61bb"
      },
      "outputs": [
        {
          "output_type": "execute_result",
          "data": {
            "text/plain": [
              "['a', 1, 'test', 'zabawa', 'Toruń', 2, 3]"
            ]
          },
          "metadata": {},
          "execution_count": 68
        }
      ],
      "source": [
        "list(G.nodes)"
      ]
    },
    {
      "cell_type": "markdown",
      "id": "designing-stuff",
      "metadata": {
        "id": "designing-stuff"
      },
      "source": [
        "Wierzhołkom można nadawać różne artybuty, do których mamy dostęp jak do tablic."
      ]
    },
    {
      "cell_type": "code",
      "execution_count": 69,
      "id": "greater-pacific",
      "metadata": {
        "colab": {
          "base_uri": "https://localhost:8080/",
          "height": 319
        },
        "id": "greater-pacific",
        "outputId": "a4c0ef14-e7b0-48ac-f6b5-3dc5d66c61fb"
      },
      "outputs": [
        {
          "output_type": "display_data",
          "data": {
            "text/plain": [
              "<Figure size 432x288 with 1 Axes>"
            ],
            "image/png": "[encoded data removed]"
          },
          "metadata": {}
        }
      ],
      "source": [
        "G.add_nodes_from([\n",
        "    ('nowy klient', {'wzrost':'180', 'wiek':25}),\n",
        "    ('samochód',{'kolor':'red'})]) #to nie jest kolor na rysunku\n",
        "nx.draw(G,with_labels=True)"
      ]
    },
    {
      "cell_type": "code",
      "execution_count": 70,
      "id": "ldvmB_9HhsKi",
      "metadata": {
        "colab": {
          "base_uri": "https://localhost:8080/"
        },
        "id": "ldvmB_9HhsKi",
        "outputId": "54ad2a6b-91e2-4202-f478-6563b65e265b"
      },
      "outputs": [
        {
          "output_type": "execute_result",
          "data": {
            "text/plain": [
              "NodeView(('a', 1, 'test', 'zabawa', 'Toruń', 2, 3, 'nowy klient', 'samochód'))"
            ]
          },
          "metadata": {},
          "execution_count": 70
        }
      ],
      "source": [
        "G.nodes"
      ]
    },
    {
      "cell_type": "code",
      "execution_count": 71,
      "id": "demanding-capability",
      "metadata": {
        "colab": {
          "base_uri": "https://localhost:8080/",
          "height": 35
        },
        "id": "demanding-capability",
        "outputId": "e01fdb15-1f70-43dc-8c2d-43330cac5d4c"
      },
      "outputs": [
        {
          "output_type": "execute_result",
          "data": {
            "text/plain": [
              "'180'"
            ],
            "application/vnd.google.colaboratory.intrinsic+json": {
              "type": "string"
            }
          },
          "metadata": {},
          "execution_count": 71
        }
      ],
      "source": [
        "G.nodes['nowy klient']['wzrost']"
      ]
    },
    {
      "cell_type": "code",
      "execution_count": 72,
      "id": "minus-kelly",
      "metadata": {
        "id": "minus-kelly"
      },
      "outputs": [],
      "source": [
        "G.nodes['samochód']['moc']=100"
      ]
    },
    {
      "cell_type": "markdown",
      "id": "afraid-explosion",
      "metadata": {
        "id": "afraid-explosion"
      },
      "source": [
        "### Krawędzie"
      ]
    },
    {
      "cell_type": "code",
      "execution_count": 73,
      "id": "interim-craft",
      "metadata": {
        "colab": {
          "base_uri": "https://localhost:8080/",
          "height": 319
        },
        "id": "interim-craft",
        "outputId": "aaadbbe4-7c0a-45b0-c60a-367563a05f5b"
      },
      "outputs": [
        {
          "output_type": "display_data",
          "data": {
            "text/plain": [
              "<Figure size 432x288 with 1 Axes>"
            ],
            "image/png": "[encoded data removed]"
          },
          "metadata": {}
        }
      ],
      "source": [
        "G.add_edge('a','test')\n",
        "nx.draw(G,with_labels=True)"
      ]
    },
    {
      "cell_type": "code",
      "execution_count": 74,
      "id": "wireless-intellectual",
      "metadata": {
        "colab": {
          "base_uri": "https://localhost:8080/",
          "height": 319
        },
        "id": "wireless-intellectual",
        "outputId": "35c3a9d3-9845-402c-a47d-68f52314650d"
      },
      "outputs": [
        {
          "output_type": "display_data",
          "data": {
            "text/plain": [
              "<Figure size 432x288 with 1 Axes>"
            ],
            "image/png": "[encoded data removed]"
          },
          "metadata": {}
        }
      ],
      "source": [
        "G.add_edges_from([('nowy klient','samochód1'),(1,'zabawa')])\n",
        "nx.draw(G,with_labels=True)"
      ]
    },
    {
      "cell_type": "code",
      "execution_count": 75,
      "id": "placed-auction",
      "metadata": {
        "colab": {
          "base_uri": "https://localhost:8080/"
        },
        "id": "placed-auction",
        "outputId": "adf65827-67ca-4701-da7a-52742cab3edd"
      },
      "outputs": [
        {
          "output_type": "execute_result",
          "data": {
            "text/plain": [
              "EdgeView([(1, 2), (22, 33), (33, 11)])"
            ]
          },
          "metadata": {},
          "execution_count": 75
        }
      ],
      "source": [
        "H=nx.Graph([(1,2),(22,33),(11,33)]) #można szybko dodawać krawędzie bezpośrednio w konstruktorze. Dodają się wtedy też wierzchołki\n",
        "H.edges"
      ]
    },
    {
      "cell_type": "code",
      "execution_count": 76,
      "id": "wbYJ77Mqiobv",
      "metadata": {
        "colab": {
          "base_uri": "https://localhost:8080/"
        },
        "id": "wbYJ77Mqiobv",
        "outputId": "313f382d-aac9-4fbb-bc41-d5c973ec3271"
      },
      "outputs": [
        {
          "output_type": "stream",
          "name": "stdout",
          "text": [
            "[1, 2, 22, 33, 11, 'a', 'test', 'zabawa', 'Toruń', 3, 'nowy klient', 'samochód', 'samochód1']\n",
            "[(1, 2), (22, 33), (33, 11)]\n"
          ]
        }
      ],
      "source": [
        "H.add_nodes_from(G) #nie przenoszą się krawędzie i atrybuty\n",
        "print(H.nodes)\n",
        "print(H.edges)"
      ]
    },
    {
      "cell_type": "code",
      "execution_count": 77,
      "id": "sunrise-receptor",
      "metadata": {
        "colab": {
          "base_uri": "https://localhost:8080/"
        },
        "id": "sunrise-receptor",
        "outputId": "b725673e-3693-4dc0-f429-ec10c3df4e35"
      },
      "outputs": [
        {
          "output_type": "execute_result",
          "data": {
            "text/plain": [
              "EdgeView([(1, 2), (1, 'zabawa'), (22, 33), (33, 11), ('a', 'test'), ('nowy klient', 'samochód1')])"
            ]
          },
          "metadata": {},
          "execution_count": 77
        }
      ],
      "source": [
        "H.add_edges_from(G.edges)\n",
        "H.edges"
      ]
    },
    {
      "cell_type": "markdown",
      "id": "brazilian-university",
      "metadata": {
        "id": "brazilian-university"
      },
      "source": [
        "### Usuwanie i modyfikacja"
      ]
    },
    {
      "cell_type": "code",
      "execution_count": 78,
      "id": "killing-norwegian",
      "metadata": {
        "colab": {
          "base_uri": "https://localhost:8080/"
        },
        "id": "killing-norwegian",
        "outputId": "7769ed39-3421-4d86-8da7-cd331bee1828"
      },
      "outputs": [
        {
          "output_type": "stream",
          "name": "stdout",
          "text": [
            "Liczba krawędzi: 6\n",
            "Liczba wierzchołków: 13\n"
          ]
        }
      ],
      "source": [
        "print(f'Liczba krawędzi: {H.number_of_edges()}')\n",
        "\n",
        "print(f'Liczba wierzchołków: {H.number_of_nodes()}')"
      ]
    },
    {
      "cell_type": "code",
      "execution_count": 79,
      "id": "failing-genius",
      "metadata": {
        "colab": {
          "base_uri": "https://localhost:8080/"
        },
        "id": "failing-genius",
        "outputId": "cc11bbf6-6712-40b8-b20a-4dc03fbbcc61"
      },
      "outputs": [
        {
          "output_type": "execute_result",
          "data": {
            "text/plain": [
              "EdgeView([(1, 2), (1, 'zabawa'), (22, 33), (33, 11), ('a', 'test'), ('nowy klient', 'samochód1')])"
            ]
          },
          "metadata": {},
          "execution_count": 79
        }
      ],
      "source": [
        "H.edges"
      ]
    },
    {
      "cell_type": "code",
      "execution_count": 80,
      "id": "colonial-differential",
      "metadata": {
        "id": "colonial-differential"
      },
      "outputs": [],
      "source": [
        "H.remove_edge(1,2)"
      ]
    },
    {
      "cell_type": "code",
      "execution_count": 81,
      "id": "anticipated-manor",
      "metadata": {
        "id": "anticipated-manor",
        "outputId": "8d0f2823-102b-453b-9103-a210e8b515d7",
        "colab": {
          "base_uri": "https://localhost:8080/",
          "height": 0
        }
      },
      "outputs": [
        {
          "output_type": "stream",
          "name": "stdout",
          "text": [
            "Liczba krawędzi: 5\n",
            "Liczba wierzchołków: 13\n"
          ]
        },
        {
          "output_type": "display_data",
          "data": {
            "text/plain": [
              "<Figure size 432x288 with 1 Axes>"
            ],
            "image/png": "[encoded data removed]"
          },
          "metadata": {}
        }
      ],
      "source": [
        "nx.draw_networkx(H)\n",
        "print(f'Liczba krawędzi: {H.number_of_edges()}')\n",
        "print(f'Liczba wierzchołków: {H.number_of_nodes()}')"
      ]
    },
    {
      "cell_type": "markdown",
      "id": "magnetic-better",
      "metadata": {
        "id": "magnetic-better",
        "jp-MarkdownHeadingCollapsed": true,
        "tags": []
      },
      "source": [
        "### Inne ważne operacje\n",
        "* ```H.nodes.data()``` - dane z wierzhołków\n",
        "* ```add_weighted_edges_from(lista krotek)``` - każda 3-krotka to wierzchołki i waga krawędzi.\n",
        "* ```nx.DiGraph()``` - tworzenie grafu skierowanego\n",
        "* ```nx.MultiGraph()``` - tworzenie grafu z wielokrotnymi krawędziami między wierzchołkami\n",
        "* ```compose(G1,G2)``` - sklejenie dwóch grafów wspólnumi wierzchołkami\n",
        "* ```G.subgraph([lista wierzchołków])```"
      ]
    },
    {
      "cell_type": "markdown",
      "id": "conventional-builder",
      "metadata": {
        "id": "conventional-builder"
      },
      "source": [
        "### Klasyczne grafy\n",
        "* K_5=nx.complete_graph(5)\n",
        "* K_3_5=nx.complete_bipartite_graph(3,5)\n",
        "* barbell=nx.barbell_graph(10,10)\n",
        "* lollipop=nx.lollipop_graph(10,20)"
      ]
    },
    {
      "cell_type": "code",
      "execution_count": 82,
      "id": "narrow-static",
      "metadata": {
        "colab": {
          "base_uri": "https://localhost:8080/"
        },
        "id": "narrow-static",
        "outputId": "1e867b68-7f42-4648-d039-66821c77babf"
      },
      "outputs": [
        {
          "output_type": "execute_result",
          "data": {
            "text/plain": [
              "NodeDataView({'a': {}, 1: {'weight': 5}, 'test': {}, 'zabawa': {}, 'Toruń': {}, 2: {}, 3: {}, 'nowy klient': {'wzrost': '180', 'wiek': 25}, 'samochód': {'kolor': 'red', 'moc': 100}, 'samochód1': {}})"
            ]
          },
          "metadata": {},
          "execution_count": 82
        }
      ],
      "source": [
        "G.nodes.data()"
      ]
    },
    {
      "cell_type": "markdown",
      "id": "latest-satisfaction",
      "metadata": {
        "id": "latest-satisfaction"
      },
      "source": [
        "#### Zadanie:\n",
        "Stwórz graf skierowany zawierający litery Twojego imienia. Dodaj krawędzie w taki sposób, by ścieżka dawała imię."
      ]
    },
    {
      "cell_type": "markdown",
      "id": "widespread-reunion",
      "metadata": {
        "id": "widespread-reunion"
      },
      "source": [
        "### Tworzenie grafów z plików\n",
        "\n",
        "* .json - typ rozbudowanego słownika\n",
        "* .csv - dane tabelaryczne; oddzielane przecinkami (domyślnie) w poszczególnych wierszach\n",
        "* .xlsx (przez pandas) [przykład](https://github.com/Hevenicio/Network-Data-Science-with-NetworkX-and-Python/blob/master/task1.ipynb)\n",
        "* czytanie różnych typów zapisów grafów\n",
        "\n"
      ]
    },
    {
      "cell_type": "code",
      "execution_count": 83,
      "id": "important-light",
      "metadata": {
        "id": "important-light"
      },
      "outputs": [],
      "source": [
        "import requests\n",
        "import json \n",
        "\n",
        "data=requests.get('https://raw.githubusercontent.com/danio2010/ON2022/main/tokyo-metro.json').json()\n"
      ]
    },
    {
      "cell_type": "code",
      "execution_count": 84,
      "id": "3y09Q_cXmnx5",
      "metadata": {
        "colab": {
          "base_uri": "https://localhost:8080/"
        },
        "id": "3y09Q_cXmnx5",
        "outputId": "04458e27-0a32-42c9-f3c8-6c4d00af1b82"
      },
      "outputs": [
        {
          "output_type": "execute_result",
          "data": {
            "text/plain": [
              "dict"
            ]
          },
          "metadata": {},
          "execution_count": 84
        }
      ],
      "source": [
        "type(data)"
      ]
    },
    {
      "cell_type": "code",
      "execution_count": 85,
      "id": "decreased-stability",
      "metadata": {
        "colab": {
          "base_uri": "https://localhost:8080/"
        },
        "id": "decreased-stability",
        "outputId": "e77b1673-19d2-460f-e05f-b3d6e238bae7"
      },
      "outputs": [
        {
          "output_type": "stream",
          "name": "stdout",
          "text": [
            "dict_values([{'color': '#149848', 'transfers': [['C3', 'F15'], ['C4', 'Z2'], ['C4', 'G2'], ['C7', 'M14'], ['C7', 'N6'], ['C7', 'G6'], ['C8', 'M15'], ['C8', 'H6'], ['C9', 'H7'], ['C9', 'Y18'], ['C11', 'T9'], ['C11', 'M18'], ['C11', 'Z8'], ['C12', 'M19'], ['C18', 'H21']], 'travel_times': [['C1', 'C2', 2], ['C2', 'C3', 2], ['C3', 'C4', 1], ['C4', 'C5', 2], ['C5', 'C6', 2], ['C6', 'C7', 2], ['C7', 'C8', 1], ['C8', 'C9', 3], ['C9', 'C10', 1], ['C10', 'C11', 2], ['C11', 'C12', 2], ['C12', 'C13', 2], ['C13', 'C14', 2], ['C14', 'C15', 2], ['C15', 'C16', 2], ['C16', 'C17', 3], ['C17', 'C18', 3], ['C18', 'C19', 3]]}, {'color': '#f59230', 'transfers': [['G1', 'Z1'], ['G1', 'F16'], ['G2', 'Z2'], ['G2', 'C4'], ['G4', 'Z3'], ['G5', 'M13'], ['G5', 'Y16'], ['G5', 'Z4'], ['G5', 'N7'], ['G6', 'N6'], ['G6', 'M14'], ['G6', 'C7'], ['G9', 'M16'], ['G9', 'H8'], ['G11', 'T10'], ['G12', 'Z9'], ['G15', 'H16'], ['G16', 'H17']], 'travel_times': [['G1', 'G2', 2], ['G2', 'G3', 1], ['G3', 'G4', 2], ['G4', 'G5', 2], ['G5', 'G6', 2], ['G6', 'G7', 2], ['G7', 'G8', 2], ['G8', 'G9', 2], ['G9', 'G10', 1], ['G10', 'G11', 2], ['G11', 'G12', 2], ['G12', 'G13', 1], ['G13', 'G14', 2], ['G14', 'G15', 2], ['G15', 'G16', 1], ['G16', 'G17', 2], ['G17', 'G18', 1], ['G18', 'G19', 2]]}, {'color': '#b96528', 'transfers': [['F1', 'Y1'], ['F2', 'Y2'], ['F3', 'Y3'], ['F4', 'Y4'], ['F5', 'Y5'], ['F6', 'Y6'], ['F7', 'Y7'], ['F8', 'Y8'], ['F9', 'Y9'], ['F9', 'M25'], ['F13', 'M9'], ['F15', 'C3'], ['F16', 'Z1'], ['F16', 'G1']], 'travel_times': [['F1', 'F2', 3], ['F2', 'F3', 2], ['F3', 'F4', 3], ['F4', 'F5', 2], ['F5', 'F6', 2], ['F6', 'F7', 2], ['F7', 'F8', 2], ['F8', 'F9', 2], ['F9', 'F10', 3], ['F10', 'F11', 2], ['F11', 'F12', 2], ['F12', 'F13', 2], ['F13', 'F14', 3], ['F14', 'F15', 2], ['F15', 'F16', 2]]}, {'color': '#9cacb5', 'transfers': [['H6', 'M15'], ['H6', 'C8'], ['H7', 'Y18'], ['H7', 'C9'], ['H8', 'M16'], ['H8', 'G9'], ['H12', 'T11'], ['H16', 'G15'], ['H17', 'G16'], ['H21', 'C18']], 'travel_times': [['H1', 'H2', 3], ['H2', 'H3', 3], ['H3', 'H4', 3], ['H4', 'H5', 3], ['H5', 'H6', 2], ['H6', 'H7', 3], ['H7', 'H8', 1], ['H8', 'H9', 2], ['H9', 'H10', 2], ['H10', 'H11', 2], ['H11', 'H12', 1], ['H12', 'H13', 3], ['H13', 'H14', 1], ['H14', 'H15', 2], ['H15', 'H16', 2], ['H16', 'H17', 1], ['H17', 'H18', 2], ['H18', 'H19', 2], ['H19', 'H20', 2], ['H20', 'H21', 3]]}, {'color': '#ff0000', 'transfers': [['M9', 'F13'], ['M12', 'N8'], ['M13', 'G5'], ['M13', 'Y16'], ['M13', 'Z4'], ['M13', 'N7'], ['M14', 'C7'], ['M14', 'G6'], ['M14', 'N6'], ['M15', 'H6'], ['M15', 'C8'], ['M16', 'G9'], ['M16', 'H8'], ['M18', 'T9'], ['M18', 'C11'], ['M18', 'Z8'], ['M19', 'C12'], ['M22', 'N11'], ['M25', 'Y9'], ['M25', 'F9']], 'travel_times': [['M1', 'M2', 2], ['M2', 'M3', 2], ['M3', 'M4', 2], ['M4', 'M5', 2], ['M5', 'M6', 2], ['M6', 'M7', 2], ['M7', 'M8', 2], ['M8', 'M9', 2], ['M9', 'M10', 1], ['M10', 'M11', 2], ['M11', 'M12', 2], ['M12', 'M13', 3], ['M13', 'M14', 2], ['M14', 'M15', 1], ['M15', 'M16', 3], ['M16', 'M17', 2], ['M17', 'M18', 2], ['M18', 'M19', 2], ['M19', 'M20', 1], ['M20', 'M21', 2], ['M21', 'M22', 2], ['M22', 'M23', 3], ['M23', 'M24', 2], ['M24', 'M25', 3], ['m3', 'm4', 2], ['m4', 'm5', 2], ['m5', 'M6', 2]]}, {'color': '#1aaca9', 'transfers': [['N1', 'T1'], ['N2', 'T2'], ['N3', 'T3'], ['N6', 'G6'], ['N6', 'M14'], ['N6', 'C7'], ['N7', 'Y16'], ['N7', 'Z4'], ['N7', 'G5'], ['N7', 'M13'], ['N8', 'M12'], ['N9', 'Y14'], ['N10', 'Y13'], ['N10', 'T6'], ['N11', 'M22']], 'travel_times': [['N1', 'N2', 2], ['N2', 'N3', 2], ['N3', 'N4', 2], ['N4', 'N5', 2], ['N5', 'N6', 2], ['N6', 'N7', 2], ['N7', 'N8', 2], ['N8', 'N9', 2], ['N9', 'N10', 2], ['N10', 'N11', 2], ['N11', 'N12', 3], ['N12', 'N13', 2], ['N13', 'N14', 2], ['N14', 'N15', 3], ['N15', 'N16', 1], ['N16', 'N17', 3], ['N17', 'N18', 2], ['N18', 'N19', 2]]}, {'color': '#1aa7d8', 'transfers': [['T6', 'N10'], ['T6', 'Y13'], ['T7', 'Z6'], ['T9', 'M18'], ['T9', 'C11'], ['T9', 'Z8'], ['T10', 'G11'], ['T11', 'H12']], 'travel_times': [['T1', 'T2', 0], ['T2', 'T3', 3], ['T3', 'T4', 6], ['T4', 'T5', 9], ['T5', 'T6', 11], ['T6', 'T7', 13], ['T7', 'T8', 14], ['T8', 'T9', 16], ['T9', 'T10', 18], ['T10', 'T11', 20], ['T11', 'T12', 21], ['T12', 'T13', 24], ['T13', 'T14', 26], ['T14', 'T15', 27], ['T15', 'T16', 30], ['T16', 'T17', 33], ['T17', 'T18', 35], ['T18', 'T19', 37], ['T19', 'T20', 39], ['T20', 'T21', 41], ['T21', 'T22', 43], ['T22', 'T23', 46], ['T23', 'T24', 49]]}, {'color': '#ede7c3', 'transfers': [['Y1', 'F1'], ['Y2', 'F2'], ['Y3', 'F3'], ['Y4', 'F4'], ['Y5', 'F5'], ['Y6', 'F6'], ['Y7', 'F7'], ['Y8', 'F8'], ['Y9', 'F9'], ['Y9', 'M25'], ['Y13', 'T6'], ['Y13', 'N10'], ['Y14', 'N9'], ['Y16', 'Z4'], ['Y16', 'N7'], ['Y16', 'G5'], ['Y16', 'M13'], ['Y18', 'H7'], ['Y18', 'C9']], 'travel_times': [['Y1', 'Y2', 4], ['Y2', 'Y3', 2], ['Y3', 'Y4', 3], ['Y4', 'Y5', 2], ['Y5', 'Y6', 2], ['Y6', 'Y7', 2], ['Y7', 'Y8', 2], ['Y8', 'Y9', 3], ['Y9', 'Y10', 2], ['Y10', 'Y11', 2], ['Y11', 'Y12', 2], ['Y12', 'Y13', 3], ['Y13', 'Y14', 2], ['Y14', 'Y15', 2], ['Y15', 'Y16', 1], ['Y16', 'Y17', 2], ['Y17', 'Y18', 2], ['Y18', 'Y19', 2], ['Y19', 'Y20', 2], ['Y20', 'Y21', 2], ['Y21', 'Y22', 2], ['Y22', 'Y23', 3], ['Y23', 'Y24', 2]]}, {'color': '#a384bf', 'transfers': [['Z1', 'F16'], ['Z1', 'G1'], ['Z2', 'C4'], ['Z2', 'G2'], ['Z3', 'G4'], ['Z4', 'Y16'], ['Z4', 'N7'], ['Z4', 'M13'], ['Z4', 'G5'], ['Z6', 'T7'], ['Z8', 'M18'], ['Z8', 'C11'], ['Z8', 'T9'], ['Z9', 'G12']], 'travel_times': [['Z1', 'Z2', 3], ['Z2', 'Z3', 2], ['Z3', 'Z4', 2], ['Z4', 'Z5', 2], ['Z5', 'Z6', 2], ['Z6', 'Z7', 2], ['Z7', 'Z8', 2], ['Z8', 'Z9', 2], ['Z9', 'Z10', 3], ['Z10', 'Z11', 3], ['Z11', 'Z12', 3], ['Z12', 'Z13', 2], ['Z13', 'Z14', 2]]}])\n"
          ]
        }
      ],
      "source": [
        "print(data.values()) #linie metra"
      ]
    },
    {
      "cell_type": "code",
      "execution_count": 86,
      "id": "cultural-steering",
      "metadata": {
        "colab": {
          "base_uri": "https://localhost:8080/"
        },
        "id": "cultural-steering",
        "outputId": "f752109d-6b32-477e-eeb4-b507913ddaf5"
      },
      "outputs": [
        {
          "output_type": "execute_result",
          "data": {
            "text/plain": [
              "[['C3', 'F15'],\n",
              " ['C4', 'Z2'],\n",
              " ['C4', 'G2'],\n",
              " ['C7', 'M14'],\n",
              " ['C7', 'N6'],\n",
              " ['C7', 'G6'],\n",
              " ['C8', 'M15'],\n",
              " ['C8', 'H6'],\n",
              " ['C9', 'H7'],\n",
              " ['C9', 'Y18'],\n",
              " ['C11', 'T9'],\n",
              " ['C11', 'M18'],\n",
              " ['C11', 'Z8'],\n",
              " ['C12', 'M19'],\n",
              " ['C18', 'H21']]"
            ]
          },
          "metadata": {},
          "execution_count": 86
        }
      ],
      "source": [
        "data['C']['transfers']"
      ]
    },
    {
      "cell_type": "code",
      "execution_count": 87,
      "id": "approximate-funeral",
      "metadata": {
        "id": "approximate-funeral"
      },
      "outputs": [],
      "source": [
        "metro=nx.Graph()\n",
        "przesiadki=[]\n",
        "for linia in data.values():\n",
        "    przesiadki.extend(linia['transfers'])\n",
        "#for linia_nazwa in data.keys():\n",
        "#    przesiadki2.extend(data[linia_nazwa]['transfer'])\n",
        "polaczenia=[]\n",
        "for linia in data.values():\n",
        "    polaczenia.extend(linia['travel_times'])\n",
        "    \n",
        "# inny sposób:\n",
        "from itertools import chain\n",
        "przesiadki2=list(chain.from_iterable([linia['transfers'] for linia in data.values()]))"
      ]
    },
    {
      "cell_type": "code",
      "execution_count": 88,
      "id": "documented-magnet",
      "metadata": {
        "colab": {
          "base_uri": "https://localhost:8080/"
        },
        "id": "documented-magnet",
        "outputId": "038177c4-84b2-4520-b2a7-1deabc6fc2a9"
      },
      "outputs": [
        {
          "output_type": "execute_result",
          "data": {
            "text/plain": [
              "[['C1', 'C2', 2],\n",
              " ['C2', 'C3', 2],\n",
              " ['C3', 'C4', 1],\n",
              " ['C4', 'C5', 2],\n",
              " ['C5', 'C6', 2],\n",
              " ['C6', 'C7', 2],\n",
              " ['C7', 'C8', 1],\n",
              " ['C8', 'C9', 3],\n",
              " ['C9', 'C10', 1],\n",
              " ['C10', 'C11', 2],\n",
              " ['C11', 'C12', 2],\n",
              " ['C12', 'C13', 2],\n",
              " ['C13', 'C14', 2],\n",
              " ['C14', 'C15', 2],\n",
              " ['C15', 'C16', 2],\n",
              " ['C16', 'C17', 3],\n",
              " ['C17', 'C18', 3],\n",
              " ['C18', 'C19', 3],\n",
              " ['G1', 'G2', 2],\n",
              " ['G2', 'G3', 1],\n",
              " ['G3', 'G4', 2],\n",
              " ['G4', 'G5', 2],\n",
              " ['G5', 'G6', 2],\n",
              " ['G6', 'G7', 2],\n",
              " ['G7', 'G8', 2],\n",
              " ['G8', 'G9', 2],\n",
              " ['G9', 'G10', 1],\n",
              " ['G10', 'G11', 2],\n",
              " ['G11', 'G12', 2],\n",
              " ['G12', 'G13', 1],\n",
              " ['G13', 'G14', 2],\n",
              " ['G14', 'G15', 2],\n",
              " ['G15', 'G16', 1],\n",
              " ['G16', 'G17', 2],\n",
              " ['G17', 'G18', 1],\n",
              " ['G18', 'G19', 2],\n",
              " ['F1', 'F2', 3],\n",
              " ['F2', 'F3', 2],\n",
              " ['F3', 'F4', 3],\n",
              " ['F4', 'F5', 2],\n",
              " ['F5', 'F6', 2],\n",
              " ['F6', 'F7', 2],\n",
              " ['F7', 'F8', 2],\n",
              " ['F8', 'F9', 2],\n",
              " ['F9', 'F10', 3],\n",
              " ['F10', 'F11', 2],\n",
              " ['F11', 'F12', 2],\n",
              " ['F12', 'F13', 2],\n",
              " ['F13', 'F14', 3],\n",
              " ['F14', 'F15', 2],\n",
              " ['F15', 'F16', 2],\n",
              " ['H1', 'H2', 3],\n",
              " ['H2', 'H3', 3],\n",
              " ['H3', 'H4', 3],\n",
              " ['H4', 'H5', 3],\n",
              " ['H5', 'H6', 2],\n",
              " ['H6', 'H7', 3],\n",
              " ['H7', 'H8', 1],\n",
              " ['H8', 'H9', 2],\n",
              " ['H9', 'H10', 2],\n",
              " ['H10', 'H11', 2],\n",
              " ['H11', 'H12', 1],\n",
              " ['H12', 'H13', 3],\n",
              " ['H13', 'H14', 1],\n",
              " ['H14', 'H15', 2],\n",
              " ['H15', 'H16', 2],\n",
              " ['H16', 'H17', 1],\n",
              " ['H17', 'H18', 2],\n",
              " ['H18', 'H19', 2],\n",
              " ['H19', 'H20', 2],\n",
              " ['H20', 'H21', 3],\n",
              " ['M1', 'M2', 2],\n",
              " ['M2', 'M3', 2],\n",
              " ['M3', 'M4', 2],\n",
              " ['M4', 'M5', 2],\n",
              " ['M5', 'M6', 2],\n",
              " ['M6', 'M7', 2],\n",
              " ['M7', 'M8', 2],\n",
              " ['M8', 'M9', 2],\n",
              " ['M9', 'M10', 1],\n",
              " ['M10', 'M11', 2],\n",
              " ['M11', 'M12', 2],\n",
              " ['M12', 'M13', 3],\n",
              " ['M13', 'M14', 2],\n",
              " ['M14', 'M15', 1],\n",
              " ['M15', 'M16', 3],\n",
              " ['M16', 'M17', 2],\n",
              " ['M17', 'M18', 2],\n",
              " ['M18', 'M19', 2],\n",
              " ['M19', 'M20', 1],\n",
              " ['M20', 'M21', 2],\n",
              " ['M21', 'M22', 2],\n",
              " ['M22', 'M23', 3],\n",
              " ['M23', 'M24', 2],\n",
              " ['M24', 'M25', 3],\n",
              " ['m3', 'm4', 2],\n",
              " ['m4', 'm5', 2],\n",
              " ['m5', 'M6', 2],\n",
              " ['N1', 'N2', 2],\n",
              " ['N2', 'N3', 2],\n",
              " ['N3', 'N4', 2],\n",
              " ['N4', 'N5', 2],\n",
              " ['N5', 'N6', 2],\n",
              " ['N6', 'N7', 2],\n",
              " ['N7', 'N8', 2],\n",
              " ['N8', 'N9', 2],\n",
              " ['N9', 'N10', 2],\n",
              " ['N10', 'N11', 2],\n",
              " ['N11', 'N12', 3],\n",
              " ['N12', 'N13', 2],\n",
              " ['N13', 'N14', 2],\n",
              " ['N14', 'N15', 3],\n",
              " ['N15', 'N16', 1],\n",
              " ['N16', 'N17', 3],\n",
              " ['N17', 'N18', 2],\n",
              " ['N18', 'N19', 2],\n",
              " ['T1', 'T2', 0],\n",
              " ['T2', 'T3', 3],\n",
              " ['T3', 'T4', 6],\n",
              " ['T4', 'T5', 9],\n",
              " ['T5', 'T6', 11],\n",
              " ['T6', 'T7', 13],\n",
              " ['T7', 'T8', 14],\n",
              " ['T8', 'T9', 16],\n",
              " ['T9', 'T10', 18],\n",
              " ['T10', 'T11', 20],\n",
              " ['T11', 'T12', 21],\n",
              " ['T12', 'T13', 24],\n",
              " ['T13', 'T14', 26],\n",
              " ['T14', 'T15', 27],\n",
              " ['T15', 'T16', 30],\n",
              " ['T16', 'T17', 33],\n",
              " ['T17', 'T18', 35],\n",
              " ['T18', 'T19', 37],\n",
              " ['T19', 'T20', 39],\n",
              " ['T20', 'T21', 41],\n",
              " ['T21', 'T22', 43],\n",
              " ['T22', 'T23', 46],\n",
              " ['T23', 'T24', 49],\n",
              " ['Y1', 'Y2', 4],\n",
              " ['Y2', 'Y3', 2],\n",
              " ['Y3', 'Y4', 3],\n",
              " ['Y4', 'Y5', 2],\n",
              " ['Y5', 'Y6', 2],\n",
              " ['Y6', 'Y7', 2],\n",
              " ['Y7', 'Y8', 2],\n",
              " ['Y8', 'Y9', 3],\n",
              " ['Y9', 'Y10', 2],\n",
              " ['Y10', 'Y11', 2],\n",
              " ['Y11', 'Y12', 2],\n",
              " ['Y12', 'Y13', 3],\n",
              " ['Y13', 'Y14', 2],\n",
              " ['Y14', 'Y15', 2],\n",
              " ['Y15', 'Y16', 1],\n",
              " ['Y16', 'Y17', 2],\n",
              " ['Y17', 'Y18', 2],\n",
              " ['Y18', 'Y19', 2],\n",
              " ['Y19', 'Y20', 2],\n",
              " ['Y20', 'Y21', 2],\n",
              " ['Y21', 'Y22', 2],\n",
              " ['Y22', 'Y23', 3],\n",
              " ['Y23', 'Y24', 2],\n",
              " ['Z1', 'Z2', 3],\n",
              " ['Z2', 'Z3', 2],\n",
              " ['Z3', 'Z4', 2],\n",
              " ['Z4', 'Z5', 2],\n",
              " ['Z5', 'Z6', 2],\n",
              " ['Z6', 'Z7', 2],\n",
              " ['Z7', 'Z8', 2],\n",
              " ['Z8', 'Z9', 2],\n",
              " ['Z9', 'Z10', 3],\n",
              " ['Z10', 'Z11', 3],\n",
              " ['Z11', 'Z12', 3],\n",
              " ['Z12', 'Z13', 2],\n",
              " ['Z13', 'Z14', 2]]"
            ]
          },
          "metadata": {},
          "execution_count": 88
        }
      ],
      "source": [
        "polaczenia"
      ]
    },
    {
      "cell_type": "code",
      "execution_count": 89,
      "id": "noted-armstrong",
      "metadata": {
        "id": "noted-armstrong"
      },
      "outputs": [],
      "source": [
        "metro.add_weighted_edges_from(polaczenia,transfer=False) #dodanie krawędzi czasu przejazdu między stacjami\n",
        "metro.add_edges_from(przesiadki,transfer=True) # dodanie krawędzie z atrybutem między danymi liniami z punktach przesiadki\n"
      ]
    },
    {
      "cell_type": "code",
      "execution_count": 90,
      "id": "2DWsrFD6rLF5",
      "metadata": {
        "colab": {
          "base_uri": "https://localhost:8080/",
          "height": 319
        },
        "id": "2DWsrFD6rLF5",
        "outputId": "0333eb3d-6905-43cf-d4bd-e90748dacfbc"
      },
      "outputs": [
        {
          "output_type": "display_data",
          "data": {
            "text/plain": [
              "<Figure size 432x288 with 1 Axes>"
            ],
            "image/png": "[encoded data removed]"
          },
          "metadata": {}
        }
      ],
      "source": [
        "nx.draw(metro)"
      ]
    },
    {
      "cell_type": "code",
      "execution_count": 91,
      "id": "substantial-detector",
      "metadata": {
        "id": "substantial-detector",
        "outputId": "7daf82e3-0f81-4b1e-bb4c-679b2b2cdc08",
        "colab": {
          "base_uri": "https://localhost:8080/"
        }
      },
      "outputs": [
        {
          "output_type": "execute_result",
          "data": {
            "text/plain": [
              "184"
            ]
          },
          "metadata": {},
          "execution_count": 91
        }
      ],
      "source": [
        "metro.number_of_nodes()"
      ]
    },
    {
      "cell_type": "code",
      "execution_count": 92,
      "id": "accepting-clark",
      "metadata": {
        "id": "accepting-clark",
        "outputId": "3816a8bd-c5bc-4976-8243-a56cceb16157",
        "colab": {
          "base_uri": "https://localhost:8080/"
        }
      },
      "outputs": [
        {
          "output_type": "execute_result",
          "data": {
            "text/plain": [
              "243"
            ]
          },
          "metadata": {},
          "execution_count": 92
        }
      ],
      "source": [
        "metro.number_of_edges()"
      ]
    },
    {
      "cell_type": "code",
      "execution_count": 93,
      "id": "palestinian-enclosure",
      "metadata": {
        "colab": {
          "base_uri": "https://localhost:8080/"
        },
        "id": "palestinian-enclosure",
        "outputId": "fe3d3b53-7bdf-4e66-cfa5-ade3430769ab"
      },
      "outputs": [
        {
          "output_type": "execute_result",
          "data": {
            "text/plain": [
              "AtlasView({'C2': {'transfer': False, 'weight': 2}, 'C4': {'transfer': False, 'weight': 1}, 'F15': {'transfer': True}})"
            ]
          },
          "metadata": {},
          "execution_count": 93
        }
      ],
      "source": [
        "metro.adj['C3']"
      ]
    },
    {
      "cell_type": "markdown",
      "id": "daily-joseph",
      "metadata": {
        "id": "daily-joseph"
      },
      "source": [
        "## Rysowanie grafu"
      ]
    },
    {
      "cell_type": "code",
      "execution_count": 94,
      "id": "convinced-tucson",
      "metadata": {
        "id": "convinced-tucson",
        "outputId": "5f0ff9b7-4f5a-4634-d40f-0c511ecc3e40",
        "colab": {
          "base_uri": "https://localhost:8080/",
          "height": 319
        }
      },
      "outputs": [
        {
          "output_type": "display_data",
          "data": {
            "text/plain": [
              "<Figure size 432x288 with 1 Axes>"
            ],
            "image/png": "[encoded data removed]"
          },
          "metadata": {}
        }
      ],
      "source": [
        "nx.draw(metro)"
      ]
    },
    {
      "cell_type": "markdown",
      "id": "unable-champion",
      "metadata": {
        "id": "unable-champion"
      },
      "source": [
        "Mamy dostępne różne tryby (layout) wyświetlania:\n",
        "* graphviz_layout\n",
        "* pydot_layout\n",
        "* circular_layout\n",
        "* planar_layout\n",
        "* Itd. [dokumentacja](https://networkx.org/documentation/stable/reference/drawing.html)"
      ]
    },
    {
      "cell_type": "code",
      "execution_count": 95,
      "id": "motivated-breed",
      "metadata": {
        "id": "motivated-breed"
      },
      "outputs": [],
      "source": [
        "# Utworzenie listy kolorów wierzchołków\n",
        "kolory=[data[stacja[0].upper()][\"color\"] for stacja in metro.nodes()] #stacja[0] bierze pierwszy znak z nazwy stacji"
      ]
    },
    {
      "cell_type": "code",
      "execution_count": 130,
      "id": "simplified-nevada",
      "metadata": {
        "colab": {
          "base_uri": "https://localhost:8080/",
          "height": 592
        },
        "id": "simplified-nevada",
        "outputId": "881029c5-f174-4c2c-d6c3-713c20a9c879"
      },
      "outputs": [
        {
          "output_type": "execute_result",
          "data": {
            "text/plain": [
              "[]"
            ]
          },
          "metadata": {},
          "execution_count": 130
        },
        {
          "output_type": "display_data",
          "data": {
            "text/plain": [
              "<Figure size 1008x720 with 1 Axes>"
            ],
            "image/png": "[encoded data removed]"
          },
          "metadata": {}
        }
      ],
      "source": [
        "fig,osie=plt.subplots(1,1,figsize=(14,10))\n",
        "# wybór mapowania pozycji\n",
        "#pos = nx.drawing.nx_agraph.graphviz_layout(metro, prog=\"neato\")\n",
        "pos_s = nx.spring_layout(metro)\n",
        "pos_sh = nx.shell_layout(metro)\n",
        "pos_c = nx.circular_layout(metro)\n",
        "pos_sp = nx.spectral_layout(metro)\n",
        "pozycje=pos_s\n",
        "nx.draw(metro,pos=pozycje,ax=osie,node_size=200,node_color=kolory) #baza\n",
        "nx.draw_networkx_labels(metro, pos=pozycje, ax=osie, font_size=6) #labelki\n",
        "nx.draw_networkx_edges(metro,pos=pozycje,ax=osie,edgelist=przesiadki,width=2,edge_color='blue') #przesiadki\n",
        "nx.draw_networkx_edges(metro,pos=pozycje,ax=osie,edgelist=polaczenia,edge_color=\"red\") #połączenia\n",
        "\n",
        "nx.draw_networkx_edges(metro,pos=pozycje,ax=osie,edgelist=najkrotsza,width=5,edge_color=\"pink\")   #z zadania domowego najkrotsza\n",
        "nx.draw_networkx_edges(metro,pos=pozycje,ax=osie,edgelist=najszybsza,width=7,edge_color=\"green\")   #z zadania domowego najkrótsza\n",
        "\n",
        "# usuwanie osi\n",
        "for side in ['bottom','right','top','left']:\n",
        "    osie.spines[side].set_visible(False)\n",
        "\n",
        "# usuwanie labelek osi\n",
        "osie.set_xticks([])\n",
        "osie.set_yticks([])"
      ]
    },
    {
      "cell_type": "code",
      "execution_count": null,
      "id": "fdL8b7I9tJmI",
      "metadata": {
        "id": "fdL8b7I9tJmI"
      },
      "outputs": [],
      "source": [
        "\n",
        "\n",
        "\n"
      ]
    },
    {
      "cell_type": "markdown",
      "id": "arbitrary-abortion",
      "metadata": {
        "id": "arbitrary-abortion"
      },
      "source": [
        "## Analiza sieci (grafu)\n",
        "* ```H.adj[wierzchołek]``` - wierzchołki połączone z danym\n",
        "* ```H.degree()``` - stopnie wszystkich wierzchołków\n",
        "* ```H.degree[wierzhołek]``` - stopień wierzchołka\n",
        "* ```nx.shortest_path(H,w1,w2)``` - najkrótsza ścieżka\n",
        "\n"
      ]
    },
    {
      "cell_type": "markdown",
      "id": "altered-frank",
      "metadata": {
        "id": "altered-frank"
      },
      "source": [
        "Szukamy wierzchołków o największym stopniu"
      ]
    },
    {
      "cell_type": "code",
      "execution_count": 97,
      "id": "capable-graphics",
      "metadata": {
        "id": "capable-graphics",
        "outputId": "aeff591a-c009-49bd-aad7-19668b6e1645",
        "colab": {
          "base_uri": "https://localhost:8080/"
        }
      },
      "outputs": [
        {
          "output_type": "execute_result",
          "data": {
            "text/plain": [
              "DegreeView({'C1': 1, 'C2': 2, 'C3': 3, 'C4': 4, 'C5': 2, 'C6': 2, 'C7': 5, 'C8': 4, 'C9': 4, 'C10': 2, 'C11': 5, 'C12': 3, 'C13': 2, 'C14': 2, 'C15': 2, 'C16': 2, 'C17': 2, 'C18': 3, 'C19': 1, 'G1': 3, 'G2': 4, 'G3': 2, 'G4': 3, 'G5': 6, 'G6': 5, 'G7': 2, 'G8': 2, 'G9': 4, 'G10': 2, 'G11': 3, 'G12': 3, 'G13': 2, 'G14': 2, 'G15': 3, 'G16': 3, 'G17': 2, 'G18': 2, 'G19': 1, 'F1': 2, 'F2': 3, 'F3': 3, 'F4': 3, 'F5': 3, 'F6': 3, 'F7': 3, 'F8': 3, 'F9': 4, 'F10': 2, 'F11': 2, 'F12': 2, 'F13': 3, 'F14': 2, 'F15': 3, 'F16': 3, 'H1': 1, 'H2': 2, 'H3': 2, 'H4': 2, 'H5': 2, 'H6': 4, 'H7': 4, 'H8': 4, 'H9': 2, 'H10': 2, 'H11': 2, 'H12': 3, 'H13': 2, 'H14': 2, 'H15': 2, 'H16': 3, 'H17': 3, 'H18': 2, 'H19': 2, 'H20': 2, 'H21': 2, 'M1': 1, 'M2': 2, 'M3': 2, 'M4': 2, 'M5': 2, 'M6': 3, 'M7': 2, 'M8': 2, 'M9': 3, 'M10': 2, 'M11': 2, 'M12': 3, 'M13': 6, 'M14': 5, 'M15': 4, 'M16': 4, 'M17': 2, 'M18': 5, 'M19': 3, 'M20': 2, 'M21': 2, 'M22': 3, 'M23': 2, 'M24': 2, 'M25': 3, 'm3': 1, 'm4': 2, 'm5': 2, 'N1': 2, 'N2': 3, 'N3': 3, 'N4': 2, 'N5': 2, 'N6': 5, 'N7': 6, 'N8': 3, 'N9': 3, 'N10': 4, 'N11': 3, 'N12': 2, 'N13': 2, 'N14': 2, 'N15': 2, 'N16': 2, 'N17': 2, 'N18': 2, 'N19': 1, 'T1': 2, 'T2': 3, 'T3': 3, 'T4': 2, 'T5': 2, 'T6': 4, 'T7': 3, 'T8': 2, 'T9': 5, 'T10': 3, 'T11': 3, 'T12': 2, 'T13': 2, 'T14': 2, 'T15': 2, 'T16': 2, 'T17': 2, 'T18': 2, 'T19': 2, 'T20': 2, 'T21': 2, 'T22': 2, 'T23': 2, 'T24': 1, 'Y1': 2, 'Y2': 3, 'Y3': 3, 'Y4': 3, 'Y5': 3, 'Y6': 3, 'Y7': 3, 'Y8': 3, 'Y9': 4, 'Y10': 2, 'Y11': 2, 'Y12': 2, 'Y13': 4, 'Y14': 3, 'Y15': 2, 'Y16': 6, 'Y17': 2, 'Y18': 4, 'Y19': 2, 'Y20': 2, 'Y21': 2, 'Y22': 2, 'Y23': 2, 'Y24': 1, 'Z1': 3, 'Z2': 4, 'Z3': 3, 'Z4': 6, 'Z5': 2, 'Z6': 3, 'Z7': 2, 'Z8': 5, 'Z9': 3, 'Z10': 2, 'Z11': 2, 'Z12': 2, 'Z13': 2, 'Z14': 1})"
            ]
          },
          "metadata": {},
          "execution_count": 97
        }
      ],
      "source": [
        "metro.degree()"
      ]
    },
    {
      "cell_type": "code",
      "execution_count": 98,
      "id": "permanent-portsmouth",
      "metadata": {
        "colab": {
          "base_uri": "https://localhost:8080/"
        },
        "id": "permanent-portsmouth",
        "outputId": "e937053b-46f6-46a8-a1f0-1aaac0fecc70"
      },
      "outputs": [
        {
          "output_type": "execute_result",
          "data": {
            "text/plain": [
              "6"
            ]
          },
          "metadata": {},
          "execution_count": 98
        }
      ],
      "source": [
        "d_max = max(d for (n, d) in metro.degree())\n",
        "d_max"
      ]
    },
    {
      "cell_type": "markdown",
      "id": "missing-referral",
      "metadata": {
        "id": "missing-referral"
      },
      "source": [
        "#### Zadanie: \n",
        "Znajdź wszystkie wierzchołki maksymalnego stopnia"
      ]
    },
    {
      "cell_type": "code",
      "execution_count": 99,
      "id": "fundamental-nursing",
      "metadata": {
        "id": "fundamental-nursing",
        "outputId": "bd1b2d82-5a19-49e2-b9b7-09aa7af13517",
        "colab": {
          "base_uri": "https://localhost:8080/"
        }
      },
      "outputs": [
        {
          "output_type": "execute_result",
          "data": {
            "text/plain": [
              "[('G5', 6), ('M13', 6), ('N7', 6), ('Y16', 6), ('Z4', 6)]"
            ]
          },
          "metadata": {},
          "execution_count": 99
        }
      ],
      "source": [
        "[(n, d) for (n, d) in metro.degree() if d == d_max]"
      ]
    },
    {
      "cell_type": "markdown",
      "id": "connected-jewelry",
      "metadata": {
        "id": "connected-jewelry"
      },
      "source": [
        "#### Zadanie:\n",
        "Znajdź wszystkie stacje końcowe."
      ]
    },
    {
      "cell_type": "code",
      "execution_count": 100,
      "id": "excess-usage",
      "metadata": {
        "id": "excess-usage",
        "outputId": "182e2ee6-87b7-40df-c9d4-ac897b02a20b",
        "colab": {
          "base_uri": "https://localhost:8080/"
        }
      },
      "outputs": [
        {
          "output_type": "execute_result",
          "data": {
            "text/plain": [
              "['C1', 'C19', 'G19', 'H1', 'M1', 'm3', 'N19', 'T24', 'Y24', 'Z14']"
            ]
          },
          "metadata": {},
          "execution_count": 100
        }
      ],
      "source": [
        "[n for (n, d) in metro.degree() if d == 1]"
      ]
    },
    {
      "cell_type": "markdown",
      "id": "embedded-weekly",
      "metadata": {
        "id": "embedded-weekly"
      },
      "source": [
        "\n",
        "#### Zadanie: \n",
        "Znajdź najkrótszą i najszybszą ścieżkę między C5 i Y3 i zaznacz je grubymi liniami na grafie\n",
        "\n",
        "```nx.shortest_path```"
      ]
    },
    {
      "cell_type": "code",
      "execution_count": 101,
      "id": "vocational-study",
      "metadata": {
        "id": "vocational-study"
      },
      "outputs": [],
      "source": [
        "stacjenk=nx.shortest_path(metro,'C5','Y3')\n",
        "\n",
        "najkrotsza=[]\n",
        "for i in range(len(stacjenk)-1):\n",
        "  najkrotsza.append([stacjenk[i],stacjenk[i+1]])"
      ]
    },
    {
      "cell_type": "code",
      "source": [
        "stacjenk"
      ],
      "metadata": {
        "colab": {
          "base_uri": "https://localhost:8080/"
        },
        "id": "AR9RvQ4O5HZ_",
        "outputId": "050fe758-694f-485f-b532-37182f574c69"
      },
      "id": "AR9RvQ4O5HZ_",
      "execution_count": 106,
      "outputs": [
        {
          "output_type": "execute_result",
          "data": {
            "text/plain": [
              "['C5',\n",
              " 'C4',\n",
              " 'C3',\n",
              " 'F15',\n",
              " 'F14',\n",
              " 'F13',\n",
              " 'F12',\n",
              " 'F11',\n",
              " 'F10',\n",
              " 'F9',\n",
              " 'Y9',\n",
              " 'Y8',\n",
              " 'Y7',\n",
              " 'Y6',\n",
              " 'Y5',\n",
              " 'Y4',\n",
              " 'Y3']"
            ]
          },
          "metadata": {},
          "execution_count": 106
        }
      ]
    },
    {
      "cell_type": "code",
      "source": [
        "stacjens=nx.shortest_path(metro,'C5','Y3',weight='weight')"
      ],
      "metadata": {
        "id": "x1oSp7Xd-hpq"
      },
      "id": "x1oSp7Xd-hpq",
      "execution_count": 127,
      "outputs": []
    },
    {
      "cell_type": "code",
      "source": [
        "stacjens"
      ],
      "metadata": {
        "colab": {
          "base_uri": "https://localhost:8080/"
        },
        "id": "WrS6LV4gBxX0",
        "outputId": "079d4d97-fdf8-4e13-db0f-a123660cf2e8"
      },
      "id": "WrS6LV4gBxX0",
      "execution_count": 132,
      "outputs": [
        {
          "output_type": "execute_result",
          "data": {
            "text/plain": [
              "['C5',\n",
              " 'C4',\n",
              " 'C3',\n",
              " 'F15',\n",
              " 'F14',\n",
              " 'F13',\n",
              " 'F12',\n",
              " 'F11',\n",
              " 'F10',\n",
              " 'F9',\n",
              " 'F8',\n",
              " 'F7',\n",
              " 'F6',\n",
              " 'F5',\n",
              " 'F4',\n",
              " 'F3',\n",
              " 'Y3']"
            ]
          },
          "metadata": {},
          "execution_count": 132
        }
      ]
    },
    {
      "cell_type": "code",
      "source": [
        "najszybsza=[]\n",
        "for i in range(len(stacjens)-1):\n",
        "  najszybsza.append([stacjens[i],stacjens[i+1]])"
      ],
      "metadata": {
        "id": "RpHZ4I7oAoBv"
      },
      "id": "RpHZ4I7oAoBv",
      "execution_count": 128,
      "outputs": []
    },
    {
      "cell_type": "code",
      "source": [
        "najszybsza"
      ],
      "metadata": {
        "colab": {
          "base_uri": "https://localhost:8080/"
        },
        "id": "KQPqmyxX8TFA",
        "outputId": "6cfa4843-bba6-414f-b51f-76ab80fde805"
      },
      "id": "KQPqmyxX8TFA",
      "execution_count": 129,
      "outputs": [
        {
          "output_type": "execute_result",
          "data": {
            "text/plain": [
              "[['C5', 'C4'],\n",
              " ['C4', 'C3'],\n",
              " ['C3', 'F15'],\n",
              " ['F15', 'F14'],\n",
              " ['F14', 'F13'],\n",
              " ['F13', 'F12'],\n",
              " ['F12', 'F11'],\n",
              " ['F11', 'F10'],\n",
              " ['F10', 'F9'],\n",
              " ['F9', 'F8'],\n",
              " ['F8', 'F7'],\n",
              " ['F7', 'F6'],\n",
              " ['F6', 'F5'],\n",
              " ['F5', 'F4'],\n",
              " ['F4', 'F3'],\n",
              " ['F3', 'Y3']]"
            ]
          },
          "metadata": {},
          "execution_count": 129
        }
      ]
    },
    {
      "cell_type": "markdown",
      "source": [
        "Trasy są zaznaczone na rysunku, który powstał na zajęciach"
      ],
      "metadata": {
        "id": "7PSh7ZcEBFAt"
      },
      "id": "7PSh7ZcEBFAt"
    },
    {
      "cell_type": "markdown",
      "id": "greatest-paper",
      "metadata": {
        "id": "greatest-paper"
      },
      "source": [
        "#### Zadanie:\n",
        "Napisz funkcję obliczającą czas przejazdu po trasie (lista stacji)."
      ]
    },
    {
      "cell_type": "code",
      "execution_count": 142,
      "id": "processed-farming",
      "metadata": {
        "id": "processed-farming"
      },
      "outputs": [],
      "source": [
        "def czasprzejazdu(lista):\n",
        "  czas=0\n",
        "  for i in range(len(lista)-1):\n",
        "    czas+=nx.shortest_path_length(metro,lista[i],lista[i+1],weight='weight')\n",
        "  return czas\n"
      ]
    },
    {
      "cell_type": "markdown",
      "id": "fallen-forward",
      "metadata": {
        "id": "fallen-forward"
      },
      "source": [
        "#### Zadanie:\n",
        "Dodaj do krawędzi przesiadkowych wagi (czasy przesiadek) proporcjonalne do iloczynu stopni dwóch wierzchołków ($(w1*w2)/4$) i oblicz wówczas najszybsze przejazdy między 5 parami losowo wybranych stacji."
      ]
    },
    {
      "cell_type": "code",
      "source": [
        "przesiadki\n",
        "stopnie=metro.degree()\n",
        "for el in przesiadki:\n",
        "  el.append(stopnie[el[0]]*stopnie[el[1]]/4)"
      ],
      "metadata": {
        "id": "f4ULaMYI4K8x"
      },
      "id": "f4ULaMYI4K8x",
      "execution_count": 103,
      "outputs": []
    },
    {
      "cell_type": "code",
      "source": [
        "przesiadki"
      ],
      "metadata": {
        "colab": {
          "base_uri": "https://localhost:8080/"
        },
        "id": "Xyg8CxEc4NkC",
        "outputId": "866efe1c-b2b8-4486-c0b9-32fa7d21df87"
      },
      "id": "Xyg8CxEc4NkC",
      "execution_count": 104,
      "outputs": [
        {
          "output_type": "execute_result",
          "data": {
            "text/plain": [
              "[['C3', 'F15', 2.25],\n",
              " ['C4', 'Z2', 4.0],\n",
              " ['C4', 'G2', 4.0],\n",
              " ['C7', 'M14', 6.25],\n",
              " ['C7', 'N6', 6.25],\n",
              " ['C7', 'G6', 6.25],\n",
              " ['C8', 'M15', 4.0],\n",
              " ['C8', 'H6', 4.0],\n",
              " ['C9', 'H7', 4.0],\n",
              " ['C9', 'Y18', 4.0],\n",
              " ['C11', 'T9', 6.25],\n",
              " ['C11', 'M18', 6.25],\n",
              " ['C11', 'Z8', 6.25],\n",
              " ['C12', 'M19', 2.25],\n",
              " ['C18', 'H21', 1.5],\n",
              " ['G1', 'Z1', 2.25],\n",
              " ['G1', 'F16', 2.25],\n",
              " ['G2', 'Z2', 4.0],\n",
              " ['G2', 'C4', 4.0],\n",
              " ['G4', 'Z3', 2.25],\n",
              " ['G5', 'M13', 9.0],\n",
              " ['G5', 'Y16', 9.0],\n",
              " ['G5', 'Z4', 9.0],\n",
              " ['G5', 'N7', 9.0],\n",
              " ['G6', 'N6', 6.25],\n",
              " ['G6', 'M14', 6.25],\n",
              " ['G6', 'C7', 6.25],\n",
              " ['G9', 'M16', 4.0],\n",
              " ['G9', 'H8', 4.0],\n",
              " ['G11', 'T10', 2.25],\n",
              " ['G12', 'Z9', 2.25],\n",
              " ['G15', 'H16', 2.25],\n",
              " ['G16', 'H17', 2.25],\n",
              " ['F1', 'Y1', 1.0],\n",
              " ['F2', 'Y2', 2.25],\n",
              " ['F3', 'Y3', 2.25],\n",
              " ['F4', 'Y4', 2.25],\n",
              " ['F5', 'Y5', 2.25],\n",
              " ['F6', 'Y6', 2.25],\n",
              " ['F7', 'Y7', 2.25],\n",
              " ['F8', 'Y8', 2.25],\n",
              " ['F9', 'Y9', 4.0],\n",
              " ['F9', 'M25', 3.0],\n",
              " ['F13', 'M9', 2.25],\n",
              " ['F15', 'C3', 2.25],\n",
              " ['F16', 'Z1', 2.25],\n",
              " ['F16', 'G1', 2.25],\n",
              " ['H6', 'M15', 4.0],\n",
              " ['H6', 'C8', 4.0],\n",
              " ['H7', 'Y18', 4.0],\n",
              " ['H7', 'C9', 4.0],\n",
              " ['H8', 'M16', 4.0],\n",
              " ['H8', 'G9', 4.0],\n",
              " ['H12', 'T11', 2.25],\n",
              " ['H16', 'G15', 2.25],\n",
              " ['H17', 'G16', 2.25],\n",
              " ['H21', 'C18', 1.5],\n",
              " ['M9', 'F13', 2.25],\n",
              " ['M12', 'N8', 2.25],\n",
              " ['M13', 'G5', 9.0],\n",
              " ['M13', 'Y16', 9.0],\n",
              " ['M13', 'Z4', 9.0],\n",
              " ['M13', 'N7', 9.0],\n",
              " ['M14', 'C7', 6.25],\n",
              " ['M14', 'G6', 6.25],\n",
              " ['M14', 'N6', 6.25],\n",
              " ['M15', 'H6', 4.0],\n",
              " ['M15', 'C8', 4.0],\n",
              " ['M16', 'G9', 4.0],\n",
              " ['M16', 'H8', 4.0],\n",
              " ['M18', 'T9', 6.25],\n",
              " ['M18', 'C11', 6.25],\n",
              " ['M18', 'Z8', 6.25],\n",
              " ['M19', 'C12', 2.25],\n",
              " ['M22', 'N11', 2.25],\n",
              " ['M25', 'Y9', 3.0],\n",
              " ['M25', 'F9', 3.0],\n",
              " ['N1', 'T1', 1.0],\n",
              " ['N2', 'T2', 2.25],\n",
              " ['N3', 'T3', 2.25],\n",
              " ['N6', 'G6', 6.25],\n",
              " ['N6', 'M14', 6.25],\n",
              " ['N6', 'C7', 6.25],\n",
              " ['N7', 'Y16', 9.0],\n",
              " ['N7', 'Z4', 9.0],\n",
              " ['N7', 'G5', 9.0],\n",
              " ['N7', 'M13', 9.0],\n",
              " ['N8', 'M12', 2.25],\n",
              " ['N9', 'Y14', 2.25],\n",
              " ['N10', 'Y13', 4.0],\n",
              " ['N10', 'T6', 4.0],\n",
              " ['N11', 'M22', 2.25],\n",
              " ['T6', 'N10', 4.0],\n",
              " ['T6', 'Y13', 4.0],\n",
              " ['T7', 'Z6', 2.25],\n",
              " ['T9', 'M18', 6.25],\n",
              " ['T9', 'C11', 6.25],\n",
              " ['T9', 'Z8', 6.25],\n",
              " ['T10', 'G11', 2.25],\n",
              " ['T11', 'H12', 2.25],\n",
              " ['Y1', 'F1', 1.0],\n",
              " ['Y2', 'F2', 2.25],\n",
              " ['Y3', 'F3', 2.25],\n",
              " ['Y4', 'F4', 2.25],\n",
              " ['Y5', 'F5', 2.25],\n",
              " ['Y6', 'F6', 2.25],\n",
              " ['Y7', 'F7', 2.25],\n",
              " ['Y8', 'F8', 2.25],\n",
              " ['Y9', 'F9', 4.0],\n",
              " ['Y9', 'M25', 3.0],\n",
              " ['Y13', 'T6', 4.0],\n",
              " ['Y13', 'N10', 4.0],\n",
              " ['Y14', 'N9', 2.25],\n",
              " ['Y16', 'Z4', 9.0],\n",
              " ['Y16', 'N7', 9.0],\n",
              " ['Y16', 'G5', 9.0],\n",
              " ['Y16', 'M13', 9.0],\n",
              " ['Y18', 'H7', 4.0],\n",
              " ['Y18', 'C9', 4.0],\n",
              " ['Z1', 'F16', 2.25],\n",
              " ['Z1', 'G1', 2.25],\n",
              " ['Z2', 'C4', 4.0],\n",
              " ['Z2', 'G2', 4.0],\n",
              " ['Z3', 'G4', 2.25],\n",
              " ['Z4', 'Y16', 9.0],\n",
              " ['Z4', 'N7', 9.0],\n",
              " ['Z4', 'M13', 9.0],\n",
              " ['Z4', 'G5', 9.0],\n",
              " ['Z6', 'T7', 2.25],\n",
              " ['Z8', 'M18', 6.25],\n",
              " ['Z8', 'C11', 6.25],\n",
              " ['Z8', 'T9', 6.25],\n",
              " ['Z9', 'G12', 2.25]]"
            ]
          },
          "metadata": {},
          "execution_count": 104
        }
      ]
    },
    {
      "cell_type": "code",
      "source": [
        ""
      ],
      "metadata": {
        "id": "jhnQhHRxCOts"
      },
      "id": "jhnQhHRxCOts",
      "execution_count": 134,
      "outputs": []
    },
    {
      "cell_type": "code",
      "source": [
        "metro.add_weighted_edges_from(przesiadki,transfer=True)"
      ],
      "metadata": {
        "id": "UHzinr7GBbHT"
      },
      "id": "UHzinr7GBbHT",
      "execution_count": 136,
      "outputs": []
    },
    {
      "cell_type": "code",
      "source": [
        "metro.get_edge_data('H21','C18')"
      ],
      "metadata": {
        "colab": {
          "base_uri": "https://localhost:8080/"
        },
        "id": "Fi01C4yjCEd8",
        "outputId": "db94cd46-a71e-4765-fb69-8eaaa14b04fc"
      },
      "id": "Fi01C4yjCEd8",
      "execution_count": 137,
      "outputs": [
        {
          "output_type": "execute_result",
          "data": {
            "text/plain": [
              "{'transfer': True, 'weight': 1.5}"
            ]
          },
          "metadata": {},
          "execution_count": 137
        }
      ]
    },
    {
      "cell_type": "code",
      "source": [
        "stacje=list(metro.nodes())\n",
        "stacje"
      ],
      "metadata": {
        "colab": {
          "base_uri": "https://localhost:8080/"
        },
        "id": "JPsV9x1RCcW2",
        "outputId": "0f42297a-6bcc-415c-bb49-01b06eba0263"
      },
      "id": "JPsV9x1RCcW2",
      "execution_count": 151,
      "outputs": [
        {
          "output_type": "execute_result",
          "data": {
            "text/plain": [
              "['C1',\n",
              " 'C2',\n",
              " 'C3',\n",
              " 'C4',\n",
              " 'C5',\n",
              " 'C6',\n",
              " 'C7',\n",
              " 'C8',\n",
              " 'C9',\n",
              " 'C10',\n",
              " 'C11',\n",
              " 'C12',\n",
              " 'C13',\n",
              " 'C14',\n",
              " 'C15',\n",
              " 'C16',\n",
              " 'C17',\n",
              " 'C18',\n",
              " 'C19',\n",
              " 'G1',\n",
              " 'G2',\n",
              " 'G3',\n",
              " 'G4',\n",
              " 'G5',\n",
              " 'G6',\n",
              " 'G7',\n",
              " 'G8',\n",
              " 'G9',\n",
              " 'G10',\n",
              " 'G11',\n",
              " 'G12',\n",
              " 'G13',\n",
              " 'G14',\n",
              " 'G15',\n",
              " 'G16',\n",
              " 'G17',\n",
              " 'G18',\n",
              " 'G19',\n",
              " 'F1',\n",
              " 'F2',\n",
              " 'F3',\n",
              " 'F4',\n",
              " 'F5',\n",
              " 'F6',\n",
              " 'F7',\n",
              " 'F8',\n",
              " 'F9',\n",
              " 'F10',\n",
              " 'F11',\n",
              " 'F12',\n",
              " 'F13',\n",
              " 'F14',\n",
              " 'F15',\n",
              " 'F16',\n",
              " 'H1',\n",
              " 'H2',\n",
              " 'H3',\n",
              " 'H4',\n",
              " 'H5',\n",
              " 'H6',\n",
              " 'H7',\n",
              " 'H8',\n",
              " 'H9',\n",
              " 'H10',\n",
              " 'H11',\n",
              " 'H12',\n",
              " 'H13',\n",
              " 'H14',\n",
              " 'H15',\n",
              " 'H16',\n",
              " 'H17',\n",
              " 'H18',\n",
              " 'H19',\n",
              " 'H20',\n",
              " 'H21',\n",
              " 'M1',\n",
              " 'M2',\n",
              " 'M3',\n",
              " 'M4',\n",
              " 'M5',\n",
              " 'M6',\n",
              " 'M7',\n",
              " 'M8',\n",
              " 'M9',\n",
              " 'M10',\n",
              " 'M11',\n",
              " 'M12',\n",
              " 'M13',\n",
              " 'M14',\n",
              " 'M15',\n",
              " 'M16',\n",
              " 'M17',\n",
              " 'M18',\n",
              " 'M19',\n",
              " 'M20',\n",
              " 'M21',\n",
              " 'M22',\n",
              " 'M23',\n",
              " 'M24',\n",
              " 'M25',\n",
              " 'm3',\n",
              " 'm4',\n",
              " 'm5',\n",
              " 'N1',\n",
              " 'N2',\n",
              " 'N3',\n",
              " 'N4',\n",
              " 'N5',\n",
              " 'N6',\n",
              " 'N7',\n",
              " 'N8',\n",
              " 'N9',\n",
              " 'N10',\n",
              " 'N11',\n",
              " 'N12',\n",
              " 'N13',\n",
              " 'N14',\n",
              " 'N15',\n",
              " 'N16',\n",
              " 'N17',\n",
              " 'N18',\n",
              " 'N19',\n",
              " 'T1',\n",
              " 'T2',\n",
              " 'T3',\n",
              " 'T4',\n",
              " 'T5',\n",
              " 'T6',\n",
              " 'T7',\n",
              " 'T8',\n",
              " 'T9',\n",
              " 'T10',\n",
              " 'T11',\n",
              " 'T12',\n",
              " 'T13',\n",
              " 'T14',\n",
              " 'T15',\n",
              " 'T16',\n",
              " 'T17',\n",
              " 'T18',\n",
              " 'T19',\n",
              " 'T20',\n",
              " 'T21',\n",
              " 'T22',\n",
              " 'T23',\n",
              " 'T24',\n",
              " 'Y1',\n",
              " 'Y2',\n",
              " 'Y3',\n",
              " 'Y4',\n",
              " 'Y5',\n",
              " 'Y6',\n",
              " 'Y7',\n",
              " 'Y8',\n",
              " 'Y9',\n",
              " 'Y10',\n",
              " 'Y11',\n",
              " 'Y12',\n",
              " 'Y13',\n",
              " 'Y14',\n",
              " 'Y15',\n",
              " 'Y16',\n",
              " 'Y17',\n",
              " 'Y18',\n",
              " 'Y19',\n",
              " 'Y20',\n",
              " 'Y21',\n",
              " 'Y22',\n",
              " 'Y23',\n",
              " 'Y24',\n",
              " 'Z1',\n",
              " 'Z2',\n",
              " 'Z3',\n",
              " 'Z4',\n",
              " 'Z5',\n",
              " 'Z6',\n",
              " 'Z7',\n",
              " 'Z8',\n",
              " 'Z9',\n",
              " 'Z10',\n",
              " 'Z11',\n",
              " 'Z12',\n",
              " 'Z13',\n",
              " 'Z14']"
            ]
          },
          "metadata": {},
          "execution_count": 151
        }
      ]
    },
    {
      "cell_type": "code",
      "source": [
        "def losowanie():\n",
        "  a=r.randint(0,len(stacje)-1)\n",
        "  b=r.randint(0,len(stacje)-1)\n",
        "  while b==a:\n",
        "    b=r.randint(0,len(stacje)-1)\n",
        "  return a,b"
      ],
      "metadata": {
        "id": "uWDJw8S-FTBG"
      },
      "id": "uWDJw8S-FTBG",
      "execution_count": 152,
      "outputs": []
    },
    {
      "cell_type": "code",
      "source": [
        "for i in range(5):\n",
        "  a,b=losowanie()\n",
        "  print(stacje[a],' ', stacje[b], ' ',czasprzejazdu([stacje[a],stacje[b]]))"
      ],
      "metadata": {
        "colab": {
          "base_uri": "https://localhost:8080/"
        },
        "id": "OTgSeh3-GHEs",
        "outputId": "e1f62fb2-40b4-4098-ddf7-292ad5aa8677"
      },
      "id": "OTgSeh3-GHEs",
      "execution_count": 157,
      "outputs": [
        {
          "output_type": "stream",
          "name": "stdout",
          "text": [
            "M3   T19   272.25\n",
            "Z1   H9   23.25\n",
            "Y10   F3   18.25\n",
            "H16   M15   19.25\n",
            "G10   H5   11.0\n"
          ]
        }
      ]
    }
  ],
  "metadata": {
    "colab": {
      "name": "NetworkX.ipynb",
      "provenance": []
    },
    "kernelspec": {
      "display_name": "Python 3 (ipykernel)",
      "language": "python",
      "name": "python3"
    },
    "language_info": {
      "codemirror_mode": {
        "name": "ipython",
        "version": 3
      },
      "file_extension": ".py",
      "mimetype": "text/x-python",
      "name": "python",
      "nbconvert_exporter": "python",
      "pygments_lexer": "ipython3",
      "version": "3.9.7"
    }
  },
  "nbformat": 4,
  "nbformat_minor": 5
}